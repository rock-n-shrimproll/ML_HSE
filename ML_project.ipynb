{
 "cells": [
  {
   "cell_type": "markdown",
   "id": "133410ed",
   "metadata": {},
   "source": [
    "# Проект speech emotion recognition on CREMA-D Dataset"
   ]
  },
  {
   "cell_type": "markdown",
   "id": "3c42fea9",
   "metadata": {},
   "source": [
    "Определение эмоции по звуку - обширная задача, решение которой с развитием голосовых помощников и умных колонок вышло на первый план для лидеров индустрии. \n",
    "\n",
    "Более того, решение задачи SER однозначно необходимо в гуманитарной сфере (телефонах поддержки, выявлении фактов домашнего насилия и многое другое)."
   ]
  },
  {
   "cell_type": "markdown",
   "id": "3b9a959c",
   "metadata": {},
   "source": [
    "## Подготовка данных"
   ]
  },
  {
   "cell_type": "markdown",
   "id": "b358cbe0",
   "metadata": {
    "ExecuteTime": {
     "end_time": "2023-06-27T16:11:10.891342Z",
     "start_time": "2023-06-27T16:11:10.835521Z"
    }
   },
   "source": [
    "CREMA-D Dataset — это мультимодальный (видео+аудио) датасет из 7442 оригинальных клипов от 91 актера. Эти клипы были сняты 48 мужчинами и 43 женщинами-актёрами в возрасте от 20 до 74 лет, принадлежащими к разным расам и этническим группам (афроамериканцам, азиатам, кавказцам, латиноамериканцам и неуказанным).\n",
    "\n",
    "Актеры произносили 12 предложений с одной из шести эмоций (гнев, отвращение, страх, счастье, нейтральная и грустная) и четырех различных уровней эмоций (низкий, средний, высокий и неопределенный).\n",
    "\n",
    "В данном исследовании используется только аудио часть датасета."
   ]
  },
  {
   "cell_type": "code",
   "execution_count": 1,
   "id": "62d2959b",
   "metadata": {
    "ExecuteTime": {
     "end_time": "2023-06-27T15:50:35.131325Z",
     "start_time": "2023-06-27T15:50:35.128398Z"
    }
   },
   "outputs": [],
   "source": [
    "data_path = \"/Users/alexandradolidze/Desktop/ML/AudioWAV/\""
   ]
  },
  {
   "cell_type": "code",
   "execution_count": 2,
   "id": "b56dc60f",
   "metadata": {
    "ExecuteTime": {
     "end_time": "2023-06-27T15:50:35.137015Z",
     "start_time": "2023-06-27T15:50:35.133837Z"
    },
    "scrolled": true
   },
   "outputs": [],
   "source": [
    "# ! pip install matplotlib"
   ]
  },
  {
   "cell_type": "code",
   "execution_count": 3,
   "id": "e21dc32b",
   "metadata": {
    "ExecuteTime": {
     "end_time": "2023-06-27T15:50:36.337623Z",
     "start_time": "2023-06-27T15:50:35.141088Z"
    }
   },
   "outputs": [],
   "source": [
    "import os\n",
    "import pandas as pd\n",
    "import librosa\n",
    "import librosa.display\n",
    "import matplotlib.pyplot as plt\n",
    "# from matplotlib.pyplot import specgram\n",
    "from tqdm import tqdm\n",
    "import IPython.display as ipd"
   ]
  },
  {
   "cell_type": "code",
   "execution_count": 4,
   "id": "9b7eb57d",
   "metadata": {
    "ExecuteTime": {
     "end_time": "2023-06-27T15:50:36.352014Z",
     "start_time": "2023-06-27T15:50:36.339744Z"
    }
   },
   "outputs": [],
   "source": [
    "data_list = os.listdir(data_path)"
   ]
  },
  {
   "cell_type": "markdown",
   "id": "8c8f3e37",
   "metadata": {},
   "source": [
    "Из названия звуковой дорожки можно извлечь данные, которые лягут в основу датасета:\n",
    "\n",
    "1004_IEO_SAD_HI.wav\n",
    "\n",
    "* номер говорящего (в данном исследовании он важен для опредлеения пола);\n",
    "* кодировка фразы (так как исследование направлено на опредление эмоции только по звуковым характеристикам, то есть задача speech recognition не ставится, этим параметром можно пренебречь);\n",
    "* эмоция;\n",
    "* интесивность выражения эмоции."
   ]
  },
  {
   "cell_type": "code",
   "execution_count": 5,
   "id": "8b7d8d97",
   "metadata": {
    "ExecuteTime": {
     "end_time": "2023-06-27T15:50:36.378644Z",
     "start_time": "2023-06-27T15:50:36.354883Z"
    }
   },
   "outputs": [],
   "source": [
    "# раздербанивание дорожки на датасет \n",
    "gender = []\n",
    "emotion = []\n",
    "intensity = []\n",
    "path = []\n",
    "\n",
    "female = [1002,1003,1004,1006,1007,1008,1009,1010,1012,1013,1018,1020,1021,1024,1025,1028,1029,1030,1037,1043,1046,1047,1049,\n",
    "          1052,1053,1054,1055,1056,1058,1060,1061,1063,1072,1073,1074,1075,1076,1078,1079,1082,1084,1089,1091]\n",
    "\n",
    "\n",
    "for i in data_list:\n",
    "    part = i.split('_')\n",
    "    \n",
    "    if int(part[0]) in female:\n",
    "        temp = 1 # 1 - если женщина\n",
    "    else:\n",
    "        temp = 0 # 0 - если мужчина\n",
    "    gender.append(temp)\n",
    "    \n",
    "    emotion.append(part[2])\n",
    "    \n",
    "    intent, _ = part[3].split('.')\n",
    "    intensity.append(intent)\n",
    "    \n",
    "    path.append(data_path + i)"
   ]
  },
  {
   "cell_type": "code",
   "execution_count": 6,
   "id": "8a9eb78e",
   "metadata": {
    "ExecuteTime": {
     "end_time": "2023-06-27T15:50:36.390175Z",
     "start_time": "2023-06-27T15:50:36.381481Z"
    }
   },
   "outputs": [],
   "source": [
    "CREMA_df = pd.DataFrame({\n",
    "    'emotion': emotion,\n",
    "    'gender': gender,\n",
    "    'intensity': intensity,\n",
    "    'path': path\n",
    "})"
   ]
  },
  {
   "cell_type": "code",
   "execution_count": 7,
   "id": "29d8b451",
   "metadata": {
    "ExecuteTime": {
     "end_time": "2023-06-27T15:50:36.414912Z",
     "start_time": "2023-06-27T15:50:36.392808Z"
    }
   },
   "outputs": [
    {
     "data": {
      "text/html": [
       "<div>\n",
       "<style scoped>\n",
       "    .dataframe tbody tr th:only-of-type {\n",
       "        vertical-align: middle;\n",
       "    }\n",
       "\n",
       "    .dataframe tbody tr th {\n",
       "        vertical-align: top;\n",
       "    }\n",
       "\n",
       "    .dataframe thead th {\n",
       "        text-align: right;\n",
       "    }\n",
       "</style>\n",
       "<table border=\"1\" class=\"dataframe\">\n",
       "  <thead>\n",
       "    <tr style=\"text-align: right;\">\n",
       "      <th></th>\n",
       "      <th>emotion</th>\n",
       "      <th>gender</th>\n",
       "      <th>intensity</th>\n",
       "      <th>path</th>\n",
       "    </tr>\n",
       "  </thead>\n",
       "  <tbody>\n",
       "    <tr>\n",
       "      <th>0</th>\n",
       "      <td>ANG</td>\n",
       "      <td>0</td>\n",
       "      <td>XX</td>\n",
       "      <td>/Users/alexandradolidze/Desktop/ML/AudioWAV/10...</td>\n",
       "    </tr>\n",
       "    <tr>\n",
       "      <th>1</th>\n",
       "      <td>ANG</td>\n",
       "      <td>1</td>\n",
       "      <td>XX</td>\n",
       "      <td>/Users/alexandradolidze/Desktop/ML/AudioWAV/10...</td>\n",
       "    </tr>\n",
       "    <tr>\n",
       "      <th>2</th>\n",
       "      <td>NEU</td>\n",
       "      <td>1</td>\n",
       "      <td>XX</td>\n",
       "      <td>/Users/alexandradolidze/Desktop/ML/AudioWAV/10...</td>\n",
       "    </tr>\n",
       "    <tr>\n",
       "      <th>3</th>\n",
       "      <td>NEU</td>\n",
       "      <td>1</td>\n",
       "      <td>XX</td>\n",
       "      <td>/Users/alexandradolidze/Desktop/ML/AudioWAV/10...</td>\n",
       "    </tr>\n",
       "    <tr>\n",
       "      <th>4</th>\n",
       "      <td>DIS</td>\n",
       "      <td>1</td>\n",
       "      <td>XX</td>\n",
       "      <td>/Users/alexandradolidze/Desktop/ML/AudioWAV/10...</td>\n",
       "    </tr>\n",
       "    <tr>\n",
       "      <th>...</th>\n",
       "      <td>...</td>\n",
       "      <td>...</td>\n",
       "      <td>...</td>\n",
       "      <td>...</td>\n",
       "    </tr>\n",
       "    <tr>\n",
       "      <th>7437</th>\n",
       "      <td>ANG</td>\n",
       "      <td>1</td>\n",
       "      <td>XX</td>\n",
       "      <td>/Users/alexandradolidze/Desktop/ML/AudioWAV/10...</td>\n",
       "    </tr>\n",
       "    <tr>\n",
       "      <th>7438</th>\n",
       "      <td>ANG</td>\n",
       "      <td>1</td>\n",
       "      <td>XX</td>\n",
       "      <td>/Users/alexandradolidze/Desktop/ML/AudioWAV/10...</td>\n",
       "    </tr>\n",
       "    <tr>\n",
       "      <th>7439</th>\n",
       "      <td>ANG</td>\n",
       "      <td>1</td>\n",
       "      <td>XX</td>\n",
       "      <td>/Users/alexandradolidze/Desktop/ML/AudioWAV/10...</td>\n",
       "    </tr>\n",
       "    <tr>\n",
       "      <th>7440</th>\n",
       "      <td>ANG</td>\n",
       "      <td>0</td>\n",
       "      <td>XX</td>\n",
       "      <td>/Users/alexandradolidze/Desktop/ML/AudioWAV/10...</td>\n",
       "    </tr>\n",
       "    <tr>\n",
       "      <th>7441</th>\n",
       "      <td>NEU</td>\n",
       "      <td>1</td>\n",
       "      <td>XX</td>\n",
       "      <td>/Users/alexandradolidze/Desktop/ML/AudioWAV/10...</td>\n",
       "    </tr>\n",
       "  </tbody>\n",
       "</table>\n",
       "<p>7442 rows × 4 columns</p>\n",
       "</div>"
      ],
      "text/plain": [
       "     emotion  gender intensity  \\\n",
       "0        ANG       0        XX   \n",
       "1        ANG       1        XX   \n",
       "2        NEU       1        XX   \n",
       "3        NEU       1        XX   \n",
       "4        DIS       1        XX   \n",
       "...      ...     ...       ...   \n",
       "7437     ANG       1        XX   \n",
       "7438     ANG       1        XX   \n",
       "7439     ANG       1        XX   \n",
       "7440     ANG       0        XX   \n",
       "7441     NEU       1        XX   \n",
       "\n",
       "                                                   path  \n",
       "0     /Users/alexandradolidze/Desktop/ML/AudioWAV/10...  \n",
       "1     /Users/alexandradolidze/Desktop/ML/AudioWAV/10...  \n",
       "2     /Users/alexandradolidze/Desktop/ML/AudioWAV/10...  \n",
       "3     /Users/alexandradolidze/Desktop/ML/AudioWAV/10...  \n",
       "4     /Users/alexandradolidze/Desktop/ML/AudioWAV/10...  \n",
       "...                                                 ...  \n",
       "7437  /Users/alexandradolidze/Desktop/ML/AudioWAV/10...  \n",
       "7438  /Users/alexandradolidze/Desktop/ML/AudioWAV/10...  \n",
       "7439  /Users/alexandradolidze/Desktop/ML/AudioWAV/10...  \n",
       "7440  /Users/alexandradolidze/Desktop/ML/AudioWAV/10...  \n",
       "7441  /Users/alexandradolidze/Desktop/ML/AudioWAV/10...  \n",
       "\n",
       "[7442 rows x 4 columns]"
      ]
     },
     "execution_count": 7,
     "metadata": {},
     "output_type": "execute_result"
    }
   ],
   "source": [
    "CREMA_df"
   ]
  },
  {
   "cell_type": "markdown",
   "id": "e0cb458f",
   "metadata": {
    "ExecuteTime": {
     "end_time": "2023-06-27T13:59:25.377430Z",
     "start_time": "2023-06-27T13:59:25.351904Z"
    }
   },
   "source": [
    "## Data Understanding"
   ]
  },
  {
   "cell_type": "code",
   "execution_count": 8,
   "id": "b2262fd6",
   "metadata": {
    "ExecuteTime": {
     "end_time": "2023-06-27T15:50:36.441783Z",
     "start_time": "2023-06-27T15:50:36.417926Z"
    },
    "scrolled": true
   },
   "outputs": [
    {
     "data": {
      "text/html": [
       "<div>\n",
       "<style scoped>\n",
       "    .dataframe tbody tr th:only-of-type {\n",
       "        vertical-align: middle;\n",
       "    }\n",
       "\n",
       "    .dataframe tbody tr th {\n",
       "        vertical-align: top;\n",
       "    }\n",
       "\n",
       "    .dataframe thead th {\n",
       "        text-align: right;\n",
       "    }\n",
       "</style>\n",
       "<table border=\"1\" class=\"dataframe\">\n",
       "  <thead>\n",
       "    <tr style=\"text-align: right;\">\n",
       "      <th></th>\n",
       "      <th>emotion</th>\n",
       "      <th>gender</th>\n",
       "      <th>intensity</th>\n",
       "      <th>path</th>\n",
       "    </tr>\n",
       "  </thead>\n",
       "  <tbody>\n",
       "    <tr>\n",
       "      <th>count</th>\n",
       "      <td>7442</td>\n",
       "      <td>7442.000000</td>\n",
       "      <td>7442</td>\n",
       "      <td>7442</td>\n",
       "    </tr>\n",
       "    <tr>\n",
       "      <th>unique</th>\n",
       "      <td>6</td>\n",
       "      <td>NaN</td>\n",
       "      <td>5</td>\n",
       "      <td>7442</td>\n",
       "    </tr>\n",
       "    <tr>\n",
       "      <th>top</th>\n",
       "      <td>ANG</td>\n",
       "      <td>NaN</td>\n",
       "      <td>XX</td>\n",
       "      <td>/Users/alexandradolidze/Desktop/ML/AudioWAV/10...</td>\n",
       "    </tr>\n",
       "    <tr>\n",
       "      <th>freq</th>\n",
       "      <td>1271</td>\n",
       "      <td>NaN</td>\n",
       "      <td>6076</td>\n",
       "      <td>1</td>\n",
       "    </tr>\n",
       "    <tr>\n",
       "      <th>mean</th>\n",
       "      <td>NaN</td>\n",
       "      <td>0.471916</td>\n",
       "      <td>NaN</td>\n",
       "      <td>NaN</td>\n",
       "    </tr>\n",
       "    <tr>\n",
       "      <th>std</th>\n",
       "      <td>NaN</td>\n",
       "      <td>0.499244</td>\n",
       "      <td>NaN</td>\n",
       "      <td>NaN</td>\n",
       "    </tr>\n",
       "    <tr>\n",
       "      <th>min</th>\n",
       "      <td>NaN</td>\n",
       "      <td>0.000000</td>\n",
       "      <td>NaN</td>\n",
       "      <td>NaN</td>\n",
       "    </tr>\n",
       "    <tr>\n",
       "      <th>25%</th>\n",
       "      <td>NaN</td>\n",
       "      <td>0.000000</td>\n",
       "      <td>NaN</td>\n",
       "      <td>NaN</td>\n",
       "    </tr>\n",
       "    <tr>\n",
       "      <th>50%</th>\n",
       "      <td>NaN</td>\n",
       "      <td>0.000000</td>\n",
       "      <td>NaN</td>\n",
       "      <td>NaN</td>\n",
       "    </tr>\n",
       "    <tr>\n",
       "      <th>75%</th>\n",
       "      <td>NaN</td>\n",
       "      <td>1.000000</td>\n",
       "      <td>NaN</td>\n",
       "      <td>NaN</td>\n",
       "    </tr>\n",
       "    <tr>\n",
       "      <th>max</th>\n",
       "      <td>NaN</td>\n",
       "      <td>1.000000</td>\n",
       "      <td>NaN</td>\n",
       "      <td>NaN</td>\n",
       "    </tr>\n",
       "  </tbody>\n",
       "</table>\n",
       "</div>"
      ],
      "text/plain": [
       "       emotion       gender intensity  \\\n",
       "count     7442  7442.000000      7442   \n",
       "unique       6          NaN         5   \n",
       "top        ANG          NaN        XX   \n",
       "freq      1271          NaN      6076   \n",
       "mean       NaN     0.471916       NaN   \n",
       "std        NaN     0.499244       NaN   \n",
       "min        NaN     0.000000       NaN   \n",
       "25%        NaN     0.000000       NaN   \n",
       "50%        NaN     0.000000       NaN   \n",
       "75%        NaN     1.000000       NaN   \n",
       "max        NaN     1.000000       NaN   \n",
       "\n",
       "                                                     path  \n",
       "count                                                7442  \n",
       "unique                                               7442  \n",
       "top     /Users/alexandradolidze/Desktop/ML/AudioWAV/10...  \n",
       "freq                                                    1  \n",
       "mean                                                  NaN  \n",
       "std                                                   NaN  \n",
       "min                                                   NaN  \n",
       "25%                                                   NaN  \n",
       "50%                                                   NaN  \n",
       "75%                                                   NaN  \n",
       "max                                                   NaN  "
      ]
     },
     "execution_count": 8,
     "metadata": {},
     "output_type": "execute_result"
    }
   ],
   "source": [
    "CREMA_df.describe(include='all')"
   ]
  },
  {
   "cell_type": "code",
   "execution_count": 9,
   "id": "612428b9",
   "metadata": {
    "ExecuteTime": {
     "end_time": "2023-06-27T15:50:36.452329Z",
     "start_time": "2023-06-27T15:50:36.448168Z"
    },
    "scrolled": true
   },
   "outputs": [
    {
     "name": "stdout",
     "output_type": "stream",
     "text": [
      "(7442, 4)\n"
     ]
    }
   ],
   "source": [
    "print(CREMA_df.shape)"
   ]
  },
  {
   "cell_type": "code",
   "execution_count": 10,
   "id": "30b05446",
   "metadata": {
    "ExecuteTime": {
     "end_time": "2023-06-27T15:50:36.459529Z",
     "start_time": "2023-06-27T15:50:36.454892Z"
    }
   },
   "outputs": [
    {
     "name": "stdout",
     "output_type": "stream",
     "text": [
      "0    3930\n",
      "1    3512\n",
      "Name: gender, dtype: int64\n"
     ]
    }
   ],
   "source": [
    "print(CREMA_df['gender'].value_counts())"
   ]
  },
  {
   "cell_type": "code",
   "execution_count": 11,
   "id": "e8a050b7",
   "metadata": {
    "ExecuteTime": {
     "end_time": "2023-06-27T15:50:36.782071Z",
     "start_time": "2023-06-27T15:50:36.462026Z"
    }
   },
   "outputs": [
    {
     "data": {
      "text/plain": [
       "<AxesSubplot: >"
      ]
     },
     "execution_count": 11,
     "metadata": {},
     "output_type": "execute_result"
    },
    {
     "data": {
      "image/png": "[encoded data removed]",
      "text/plain": [
       "<Figure size 640x480 with 1 Axes>"
      ]
     },
     "metadata": {},
     "output_type": "display_data"
    },
    {
     "ename": "AttributeError",
     "evalue": "module 'matplotlib' has no attribute 'pyplot'",
     "output_type": "error",
     "traceback": [
      "\u001b[0;31m---------------------------------------------------------------------------\u001b[0m",
      "\u001b[0;31mAttributeError\u001b[0m                            Traceback (most recent call last)",
      "File \u001b[0;32m/Library/Frameworks/Python.framework/Versions/3.8/lib/python3.8/site-packages/matplotlib_inline/backend_inline.py:99\u001b[0m, in \u001b[0;36mshow\u001b[0;34m(close, block)\u001b[0m\n\u001b[1;32m     96\u001b[0m \u001b[38;5;66;03m# only call close('all') if any to close\u001b[39;00m\n\u001b[1;32m     97\u001b[0m \u001b[38;5;66;03m# close triggers gc.collect, which can be slow\u001b[39;00m\n\u001b[1;32m     98\u001b[0m \u001b[38;5;28;01mif\u001b[39;00m close \u001b[38;5;129;01mand\u001b[39;00m Gcf\u001b[38;5;241m.\u001b[39mget_all_fig_managers():\n\u001b[0;32m---> 99\u001b[0m     \u001b[43mmatplotlib\u001b[49m\u001b[38;5;241;43m.\u001b[39;49m\u001b[43mpyplot\u001b[49m\u001b[38;5;241m.\u001b[39mclose(\u001b[38;5;124m'\u001b[39m\u001b[38;5;124mall\u001b[39m\u001b[38;5;124m'\u001b[39m)\n",
      "File \u001b[0;32m/Library/Frameworks/Python.framework/Versions/3.8/lib/python3.8/site-packages/matplotlib/_api/__init__.py:224\u001b[0m, in \u001b[0;36mcaching_module_getattr.<locals>.__getattr__\u001b[0;34m(name)\u001b[0m\n\u001b[1;32m    222\u001b[0m \u001b[38;5;28;01mif\u001b[39;00m name \u001b[38;5;129;01min\u001b[39;00m props:\n\u001b[1;32m    223\u001b[0m     \u001b[38;5;28;01mreturn\u001b[39;00m props[name]\u001b[38;5;241m.\u001b[39m\u001b[38;5;21m__get__\u001b[39m(instance)\n\u001b[0;32m--> 224\u001b[0m \u001b[38;5;28;01mraise\u001b[39;00m \u001b[38;5;167;01mAttributeError\u001b[39;00m(\n\u001b[1;32m    225\u001b[0m     \u001b[38;5;124mf\u001b[39m\u001b[38;5;124m\"\u001b[39m\u001b[38;5;124mmodule \u001b[39m\u001b[38;5;132;01m{\u001b[39;00m\u001b[38;5;28mcls\u001b[39m\u001b[38;5;241m.\u001b[39m\u001b[38;5;18m__module__\u001b[39m\u001b[38;5;132;01m!r}\u001b[39;00m\u001b[38;5;124m has no attribute \u001b[39m\u001b[38;5;132;01m{\u001b[39;00mname\u001b[38;5;132;01m!r}\u001b[39;00m\u001b[38;5;124m\"\u001b[39m)\n",
      "\u001b[0;31mAttributeError\u001b[0m: module 'matplotlib' has no attribute 'pyplot'"
     ]
    }
   ],
   "source": [
    "CREMA_df['gender'].value_counts().plot(kind='bar')"
   ]
  },
  {
   "cell_type": "code",
   "execution_count": 12,
   "id": "508d8321",
   "metadata": {
    "ExecuteTime": {
     "end_time": "2023-06-27T15:50:36.787860Z",
     "start_time": "2023-06-27T15:50:36.784534Z"
    }
   },
   "outputs": [],
   "source": [
    "plt.close('all')"
   ]
  },
  {
   "cell_type": "code",
   "execution_count": 13,
   "id": "8032d876",
   "metadata": {
    "ExecuteTime": {
     "end_time": "2023-06-27T15:50:36.796804Z",
     "start_time": "2023-06-27T15:50:36.790995Z"
    }
   },
   "outputs": [
    {
     "name": "stdout",
     "output_type": "stream",
     "text": [
      "ANG    1271\n",
      "DIS    1271\n",
      "SAD    1271\n",
      "FEA    1271\n",
      "HAP    1271\n",
      "NEU    1087\n",
      "Name: emotion, dtype: int64\n"
     ]
    }
   ],
   "source": [
    "print(CREMA_df['emotion'].value_counts())"
   ]
  },
  {
   "cell_type": "code",
   "execution_count": 14,
   "id": "54f66ad8",
   "metadata": {
    "ExecuteTime": {
     "end_time": "2023-06-27T15:50:36.981183Z",
     "start_time": "2023-06-27T15:50:36.800057Z"
    }
   },
   "outputs": [
    {
     "data": {
      "text/plain": [
       "<AxesSubplot: >"
      ]
     },
     "execution_count": 14,
     "metadata": {},
     "output_type": "execute_result"
    },
    {
     "data": {
      "image/png": "[encoded data removed]",
      "text/plain": [
       "<Figure size 640x480 with 1 Axes>"
      ]
     },
     "metadata": {},
     "output_type": "display_data"
    },
    {
     "ename": "AttributeError",
     "evalue": "module 'matplotlib' has no attribute 'pyplot'",
     "output_type": "error",
     "traceback": [
      "\u001b[0;31m---------------------------------------------------------------------------\u001b[0m",
      "\u001b[0;31mAttributeError\u001b[0m                            Traceback (most recent call last)",
      "File \u001b[0;32m/Library/Frameworks/Python.framework/Versions/3.8/lib/python3.8/site-packages/matplotlib_inline/backend_inline.py:99\u001b[0m, in \u001b[0;36mshow\u001b[0;34m(close, block)\u001b[0m\n\u001b[1;32m     96\u001b[0m \u001b[38;5;66;03m# only call close('all') if any to close\u001b[39;00m\n\u001b[1;32m     97\u001b[0m \u001b[38;5;66;03m# close triggers gc.collect, which can be slow\u001b[39;00m\n\u001b[1;32m     98\u001b[0m \u001b[38;5;28;01mif\u001b[39;00m close \u001b[38;5;129;01mand\u001b[39;00m Gcf\u001b[38;5;241m.\u001b[39mget_all_fig_managers():\n\u001b[0;32m---> 99\u001b[0m     \u001b[43mmatplotlib\u001b[49m\u001b[38;5;241;43m.\u001b[39;49m\u001b[43mpyplot\u001b[49m\u001b[38;5;241m.\u001b[39mclose(\u001b[38;5;124m'\u001b[39m\u001b[38;5;124mall\u001b[39m\u001b[38;5;124m'\u001b[39m)\n",
      "File \u001b[0;32m/Library/Frameworks/Python.framework/Versions/3.8/lib/python3.8/site-packages/matplotlib/_api/__init__.py:224\u001b[0m, in \u001b[0;36mcaching_module_getattr.<locals>.__getattr__\u001b[0;34m(name)\u001b[0m\n\u001b[1;32m    222\u001b[0m \u001b[38;5;28;01mif\u001b[39;00m name \u001b[38;5;129;01min\u001b[39;00m props:\n\u001b[1;32m    223\u001b[0m     \u001b[38;5;28;01mreturn\u001b[39;00m props[name]\u001b[38;5;241m.\u001b[39m\u001b[38;5;21m__get__\u001b[39m(instance)\n\u001b[0;32m--> 224\u001b[0m \u001b[38;5;28;01mraise\u001b[39;00m \u001b[38;5;167;01mAttributeError\u001b[39;00m(\n\u001b[1;32m    225\u001b[0m     \u001b[38;5;124mf\u001b[39m\u001b[38;5;124m\"\u001b[39m\u001b[38;5;124mmodule \u001b[39m\u001b[38;5;132;01m{\u001b[39;00m\u001b[38;5;28mcls\u001b[39m\u001b[38;5;241m.\u001b[39m\u001b[38;5;18m__module__\u001b[39m\u001b[38;5;132;01m!r}\u001b[39;00m\u001b[38;5;124m has no attribute \u001b[39m\u001b[38;5;132;01m{\u001b[39;00mname\u001b[38;5;132;01m!r}\u001b[39;00m\u001b[38;5;124m\"\u001b[39m)\n",
      "\u001b[0;31mAttributeError\u001b[0m: module 'matplotlib' has no attribute 'pyplot'"
     ]
    }
   ],
   "source": [
    "CREMA_df['emotion'].value_counts().plot(kind='bar')"
   ]
  },
  {
   "cell_type": "code",
   "execution_count": 15,
   "id": "cf38ebb3",
   "metadata": {
    "ExecuteTime": {
     "end_time": "2023-06-27T15:50:36.986709Z",
     "start_time": "2023-06-27T15:50:36.983778Z"
    }
   },
   "outputs": [],
   "source": [
    "plt.close('all')"
   ]
  },
  {
   "cell_type": "code",
   "execution_count": 16,
   "id": "dcad8f07",
   "metadata": {
    "ExecuteTime": {
     "end_time": "2023-06-27T15:50:36.994232Z",
     "start_time": "2023-06-27T15:50:36.989319Z"
    }
   },
   "outputs": [
    {
     "name": "stdout",
     "output_type": "stream",
     "text": [
      "XX    6076\n",
      "MD     455\n",
      "HI     455\n",
      "LO     455\n",
      "X        1\n",
      "Name: intensity, dtype: int64\n"
     ]
    }
   ],
   "source": [
    "print(CREMA_df['intensity'].value_counts())"
   ]
  },
  {
   "cell_type": "code",
   "execution_count": 17,
   "id": "e6be2fd9",
   "metadata": {
    "ExecuteTime": {
     "end_time": "2023-06-27T15:50:37.166190Z",
     "start_time": "2023-06-27T15:50:36.996996Z"
    }
   },
   "outputs": [
    {
     "data": {
      "text/plain": [
       "<AxesSubplot: >"
      ]
     },
     "execution_count": 17,
     "metadata": {},
     "output_type": "execute_result"
    },
    {
     "data": {
      "image/png": "[encoded data removed]",
      "text/plain": [
       "<Figure size 640x480 with 1 Axes>"
      ]
     },
     "metadata": {},
     "output_type": "display_data"
    },
    {
     "ename": "AttributeError",
     "evalue": "module 'matplotlib' has no attribute 'pyplot'",
     "output_type": "error",
     "traceback": [
      "\u001b[0;31m---------------------------------------------------------------------------\u001b[0m",
      "\u001b[0;31mAttributeError\u001b[0m                            Traceback (most recent call last)",
      "File \u001b[0;32m/Library/Frameworks/Python.framework/Versions/3.8/lib/python3.8/site-packages/matplotlib_inline/backend_inline.py:99\u001b[0m, in \u001b[0;36mshow\u001b[0;34m(close, block)\u001b[0m\n\u001b[1;32m     96\u001b[0m \u001b[38;5;66;03m# only call close('all') if any to close\u001b[39;00m\n\u001b[1;32m     97\u001b[0m \u001b[38;5;66;03m# close triggers gc.collect, which can be slow\u001b[39;00m\n\u001b[1;32m     98\u001b[0m \u001b[38;5;28;01mif\u001b[39;00m close \u001b[38;5;129;01mand\u001b[39;00m Gcf\u001b[38;5;241m.\u001b[39mget_all_fig_managers():\n\u001b[0;32m---> 99\u001b[0m     \u001b[43mmatplotlib\u001b[49m\u001b[38;5;241;43m.\u001b[39;49m\u001b[43mpyplot\u001b[49m\u001b[38;5;241m.\u001b[39mclose(\u001b[38;5;124m'\u001b[39m\u001b[38;5;124mall\u001b[39m\u001b[38;5;124m'\u001b[39m)\n",
      "File \u001b[0;32m/Library/Frameworks/Python.framework/Versions/3.8/lib/python3.8/site-packages/matplotlib/_api/__init__.py:224\u001b[0m, in \u001b[0;36mcaching_module_getattr.<locals>.__getattr__\u001b[0;34m(name)\u001b[0m\n\u001b[1;32m    222\u001b[0m \u001b[38;5;28;01mif\u001b[39;00m name \u001b[38;5;129;01min\u001b[39;00m props:\n\u001b[1;32m    223\u001b[0m     \u001b[38;5;28;01mreturn\u001b[39;00m props[name]\u001b[38;5;241m.\u001b[39m\u001b[38;5;21m__get__\u001b[39m(instance)\n\u001b[0;32m--> 224\u001b[0m \u001b[38;5;28;01mraise\u001b[39;00m \u001b[38;5;167;01mAttributeError\u001b[39;00m(\n\u001b[1;32m    225\u001b[0m     \u001b[38;5;124mf\u001b[39m\u001b[38;5;124m\"\u001b[39m\u001b[38;5;124mmodule \u001b[39m\u001b[38;5;132;01m{\u001b[39;00m\u001b[38;5;28mcls\u001b[39m\u001b[38;5;241m.\u001b[39m\u001b[38;5;18m__module__\u001b[39m\u001b[38;5;132;01m!r}\u001b[39;00m\u001b[38;5;124m has no attribute \u001b[39m\u001b[38;5;132;01m{\u001b[39;00mname\u001b[38;5;132;01m!r}\u001b[39;00m\u001b[38;5;124m\"\u001b[39m)\n",
      "\u001b[0;31mAttributeError\u001b[0m: module 'matplotlib' has no attribute 'pyplot'"
     ]
    }
   ],
   "source": [
    "CREMA_df['intensity'].value_counts().plot(kind='bar')"
   ]
  },
  {
   "cell_type": "code",
   "execution_count": 18,
   "id": "88869617",
   "metadata": {
    "ExecuteTime": {
     "end_time": "2023-06-27T15:50:37.171974Z",
     "start_time": "2023-06-27T15:50:37.168976Z"
    }
   },
   "outputs": [],
   "source": [
    "plt.close('all')"
   ]
  },
  {
   "cell_type": "markdown",
   "id": "82f80dc9",
   "metadata": {},
   "source": [
    "## Извлечение фичей из аудио"
   ]
  },
  {
   "cell_type": "code",
   "execution_count": 19,
   "id": "5dba3420",
   "metadata": {
    "ExecuteTime": {
     "end_time": "2023-06-27T15:50:37.900775Z",
     "start_time": "2023-06-27T15:50:37.174518Z"
    }
   },
   "outputs": [],
   "source": [
    "import numpy as np\n",
    "from sklearn.decomposition import PCA"
   ]
  },
  {
   "cell_type": "code",
   "execution_count": 20,
   "id": "6dd6a07a",
   "metadata": {
    "ExecuteTime": {
     "end_time": "2023-06-27T15:53:54.167264Z",
     "start_time": "2023-06-27T15:50:37.903050Z"
    }
   },
   "outputs": [
    {
     "name": "stderr",
     "output_type": "stream",
     "text": [
      "4653it [01:58, 43.93it/s]/Library/Frameworks/Python.framework/Versions/3.8/lib/python3.8/site-packages/sklearn/decomposition/_pca.py:527: RuntimeWarning: invalid value encountered in divide\n",
      "  explained_variance_ratio_ = explained_variance_ / total_var\n",
      "7442it [03:16, 37.94it/s]\n"
     ]
    }
   ],
   "source": [
    "mfccs = np.zeros((len(CREMA_df.path), 2))\n",
    "melspecs = np.zeros((len(CREMA_df.path), 2))\n",
    "# zero_cross_rates = np.zeros((len(CREMA_df.path), 2))\n",
    "# rolloffs = np.zeros((len(CREMA_df.path), 2))\n",
    "\n",
    "for i, path in tqdm(enumerate(CREMA_df.path)):\n",
    "    X, sample_rate = librosa.load(path)  \n",
    "    \n",
    "    # MFCC\n",
    "    mfcc = librosa.feature.mfcc(y=X, sr=sample_rate, n_mels = 128)\n",
    "    \n",
    "    pca_mfcc = PCA(n_components=2, random_state=322)\n",
    "    principalComponents_mfcc = pca_mfcc.fit_transform(mfcc)\n",
    "    mfccs[i] = np.mean(principalComponents_mfcc, axis=0)\n",
    "      \n",
    "    # Log Mel-spectogram\n",
    "    melspec = librosa.feature.melspectrogram(y=X, sr=sample_rate, n_mels = 128)\n",
    "    # Конвертируем в логарифмическую шкалу\n",
    "    melspec_log_S = librosa.amplitude_to_db(melspec)\n",
    "    \n",
    "    pca_melspec = PCA(n_components=2, random_state=322)\n",
    "    principalComponents_melspec = pca_melspec.fit_transform(melspec_log_S)\n",
    "    melspecs[i] = np.mean(principalComponents_melspec, axis=0)\n",
    "    \n",
    "#     # Zero-crossing rate\n",
    "#     zero_cross_rate = np.mean(librosa.feature.zero_crossing_rate(X), axis=0)\n",
    "#     print(zero_cross_rate)\n",
    "#     print(np.squeeze(zero_cross_rate).shape)\n",
    "    \n",
    "    \n",
    "#     np.vstack((tp, fp)).T\n",
    "#     if len(zero_cross_rate) < 216:\n",
    "#         zero_cross_rate = np.pad(zero_cross_rate, (0, 216-len(zero_cross_rate)), 'constant', constant_values=(0))\n",
    "#     zero_cross_rates[i] = zero_cross_rate  \n",
    "\n",
    "#     # Sectral roll-off\n",
    "#     zero_cross_rate = np.mean(librosa.feature.zero_crossing_rate(X), axis = 0)\n",
    "#     if len(zero_cross_rate) < 216:\n",
    "#         zero_cross_rate = np.pad(zero_cross_rate, (0, 216-len(zero_cross_rate)), 'constant', constant_values=(0))\n",
    "#     zero_cross_rates[i] = zero_cross_rate  \n"
   ]
  },
  {
   "cell_type": "code",
   "execution_count": 21,
   "id": "80d35adc",
   "metadata": {
    "ExecuteTime": {
     "end_time": "2023-06-27T15:53:54.266891Z",
     "start_time": "2023-06-27T15:53:54.216170Z"
    }
   },
   "outputs": [
    {
     "data": {
      "text/html": [
       "\n",
       "                <audio  controls=\"controls\" >\n",
       "                    <source src=\"data:audio/x-wav;base64,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\" type=\"audio/x-wav\" />\n",
       "                    Your browser does not support the audio element.\n",
       "                </audio>\n",
       "              "
      ],
      "text/plain": [
       "<IPython.lib.display.Audio object>"
      ]
     },
     "execution_count": 21,
     "metadata": {},
     "output_type": "execute_result"
    }
   ],
   "source": [
    "ipd.Audio(CREMA_df.path[0])"
   ]
  },
  {
   "cell_type": "code",
   "execution_count": 22,
   "id": "1df84389",
   "metadata": {
    "ExecuteTime": {
     "end_time": "2023-06-27T15:53:54.788883Z",
     "start_time": "2023-06-27T15:53:54.270722Z"
    }
   },
   "outputs": [
    {
     "data": {
      "text/plain": [
       "Text(0.5, 1.0, 'Audio sampled at 22050 hrz')"
      ]
     },
     "execution_count": 22,
     "metadata": {},
     "output_type": "execute_result"
    },
    {
     "data": {
      "image/png": "[encoded data removed]",
      "text/plain": [
       "<Figure size 1200x300 with 1 Axes>"
      ]
     },
     "metadata": {},
     "output_type": "display_data"
    },
    {
     "ename": "AttributeError",
     "evalue": "module 'matplotlib' has no attribute 'pyplot'",
     "output_type": "error",
     "traceback": [
      "\u001b[0;31m---------------------------------------------------------------------------\u001b[0m",
      "\u001b[0;31mAttributeError\u001b[0m                            Traceback (most recent call last)",
      "File \u001b[0;32m/Library/Frameworks/Python.framework/Versions/3.8/lib/python3.8/site-packages/matplotlib_inline/backend_inline.py:99\u001b[0m, in \u001b[0;36mshow\u001b[0;34m(close, block)\u001b[0m\n\u001b[1;32m     96\u001b[0m \u001b[38;5;66;03m# only call close('all') if any to close\u001b[39;00m\n\u001b[1;32m     97\u001b[0m \u001b[38;5;66;03m# close triggers gc.collect, which can be slow\u001b[39;00m\n\u001b[1;32m     98\u001b[0m \u001b[38;5;28;01mif\u001b[39;00m close \u001b[38;5;129;01mand\u001b[39;00m Gcf\u001b[38;5;241m.\u001b[39mget_all_fig_managers():\n\u001b[0;32m---> 99\u001b[0m     \u001b[43mmatplotlib\u001b[49m\u001b[38;5;241;43m.\u001b[39;49m\u001b[43mpyplot\u001b[49m\u001b[38;5;241m.\u001b[39mclose(\u001b[38;5;124m'\u001b[39m\u001b[38;5;124mall\u001b[39m\u001b[38;5;124m'\u001b[39m)\n",
      "File \u001b[0;32m/Library/Frameworks/Python.framework/Versions/3.8/lib/python3.8/site-packages/matplotlib/_api/__init__.py:224\u001b[0m, in \u001b[0;36mcaching_module_getattr.<locals>.__getattr__\u001b[0;34m(name)\u001b[0m\n\u001b[1;32m    222\u001b[0m \u001b[38;5;28;01mif\u001b[39;00m name \u001b[38;5;129;01min\u001b[39;00m props:\n\u001b[1;32m    223\u001b[0m     \u001b[38;5;28;01mreturn\u001b[39;00m props[name]\u001b[38;5;241m.\u001b[39m\u001b[38;5;21m__get__\u001b[39m(instance)\n\u001b[0;32m--> 224\u001b[0m \u001b[38;5;28;01mraise\u001b[39;00m \u001b[38;5;167;01mAttributeError\u001b[39;00m(\n\u001b[1;32m    225\u001b[0m     \u001b[38;5;124mf\u001b[39m\u001b[38;5;124m\"\u001b[39m\u001b[38;5;124mmodule \u001b[39m\u001b[38;5;132;01m{\u001b[39;00m\u001b[38;5;28mcls\u001b[39m\u001b[38;5;241m.\u001b[39m\u001b[38;5;18m__module__\u001b[39m\u001b[38;5;132;01m!r}\u001b[39;00m\u001b[38;5;124m has no attribute \u001b[39m\u001b[38;5;132;01m{\u001b[39;00mname\u001b[38;5;132;01m!r}\u001b[39;00m\u001b[38;5;124m\"\u001b[39m)\n",
      "\u001b[0;31mAttributeError\u001b[0m: module 'matplotlib' has no attribute 'pyplot'"
     ]
    }
   ],
   "source": [
    "# визуализация фичей\n",
    "\n",
    "X, sample_rate = librosa.load(CREMA_df.path[0]) \n",
    "\n",
    "# \n",
    "\n",
    "plt.figure(figsize=(12, 3))\n",
    "librosa.display.waveshow(X, sr=sample_rate)\n",
    "plt.title(f'Audio sampled at {sample_rate} hrz')"
   ]
  },
  {
   "cell_type": "code",
   "execution_count": 23,
   "id": "b14eb671",
   "metadata": {
    "ExecuteTime": {
     "end_time": "2023-06-27T15:53:54.795274Z",
     "start_time": "2023-06-27T15:53:54.791865Z"
    }
   },
   "outputs": [],
   "source": [
    "plt.close('all')"
   ]
  },
  {
   "cell_type": "code",
   "execution_count": 24,
   "id": "884572a3",
   "metadata": {
    "ExecuteTime": {
     "end_time": "2023-06-27T15:53:55.025721Z",
     "start_time": "2023-06-27T15:53:54.797728Z"
    }
   },
   "outputs": [
    {
     "data": {
      "text/plain": [
       "<matplotlib.colorbar.Colorbar at 0x7f7fac5279d0>"
      ]
     },
     "execution_count": 24,
     "metadata": {},
     "output_type": "execute_result"
    },
    {
     "data": {
      "image/png": "[encoded data removed]",
      "text/plain": [
       "<Figure size 1200x600 with 2 Axes>"
      ]
     },
     "metadata": {},
     "output_type": "display_data"
    },
    {
     "ename": "AttributeError",
     "evalue": "module 'matplotlib' has no attribute 'pyplot'",
     "output_type": "error",
     "traceback": [
      "\u001b[0;31m---------------------------------------------------------------------------\u001b[0m",
      "\u001b[0;31mAttributeError\u001b[0m                            Traceback (most recent call last)",
      "File \u001b[0;32m/Library/Frameworks/Python.framework/Versions/3.8/lib/python3.8/site-packages/matplotlib_inline/backend_inline.py:99\u001b[0m, in \u001b[0;36mshow\u001b[0;34m(close, block)\u001b[0m\n\u001b[1;32m     96\u001b[0m \u001b[38;5;66;03m# only call close('all') if any to close\u001b[39;00m\n\u001b[1;32m     97\u001b[0m \u001b[38;5;66;03m# close triggers gc.collect, which can be slow\u001b[39;00m\n\u001b[1;32m     98\u001b[0m \u001b[38;5;28;01mif\u001b[39;00m close \u001b[38;5;129;01mand\u001b[39;00m Gcf\u001b[38;5;241m.\u001b[39mget_all_fig_managers():\n\u001b[0;32m---> 99\u001b[0m     \u001b[43mmatplotlib\u001b[49m\u001b[38;5;241;43m.\u001b[39;49m\u001b[43mpyplot\u001b[49m\u001b[38;5;241m.\u001b[39mclose(\u001b[38;5;124m'\u001b[39m\u001b[38;5;124mall\u001b[39m\u001b[38;5;124m'\u001b[39m)\n",
      "File \u001b[0;32m/Library/Frameworks/Python.framework/Versions/3.8/lib/python3.8/site-packages/matplotlib/_api/__init__.py:224\u001b[0m, in \u001b[0;36mcaching_module_getattr.<locals>.__getattr__\u001b[0;34m(name)\u001b[0m\n\u001b[1;32m    222\u001b[0m \u001b[38;5;28;01mif\u001b[39;00m name \u001b[38;5;129;01min\u001b[39;00m props:\n\u001b[1;32m    223\u001b[0m     \u001b[38;5;28;01mreturn\u001b[39;00m props[name]\u001b[38;5;241m.\u001b[39m\u001b[38;5;21m__get__\u001b[39m(instance)\n\u001b[0;32m--> 224\u001b[0m \u001b[38;5;28;01mraise\u001b[39;00m \u001b[38;5;167;01mAttributeError\u001b[39;00m(\n\u001b[1;32m    225\u001b[0m     \u001b[38;5;124mf\u001b[39m\u001b[38;5;124m\"\u001b[39m\u001b[38;5;124mmodule \u001b[39m\u001b[38;5;132;01m{\u001b[39;00m\u001b[38;5;28mcls\u001b[39m\u001b[38;5;241m.\u001b[39m\u001b[38;5;18m__module__\u001b[39m\u001b[38;5;132;01m!r}\u001b[39;00m\u001b[38;5;124m has no attribute \u001b[39m\u001b[38;5;132;01m{\u001b[39;00mname\u001b[38;5;132;01m!r}\u001b[39;00m\u001b[38;5;124m\"\u001b[39m)\n",
      "\u001b[0;31mAttributeError\u001b[0m: module 'matplotlib' has no attribute 'pyplot'"
     ]
    }
   ],
   "source": [
    "mfcc = librosa.feature.mfcc(y=X, sr=sample_rate, n_mfcc = 5)\n",
    "\n",
    "plt.figure(figsize=(12, 6))\n",
    "librosa.display.specshow(mfcc)\n",
    "plt.ylabel('MFCC')\n",
    "plt.colorbar()"
   ]
  },
  {
   "cell_type": "code",
   "execution_count": 25,
   "id": "b7d518fe",
   "metadata": {
    "ExecuteTime": {
     "end_time": "2023-06-27T15:53:55.031665Z",
     "start_time": "2023-06-27T15:53:55.028789Z"
    }
   },
   "outputs": [],
   "source": [
    "plt.close('all')"
   ]
  },
  {
   "cell_type": "code",
   "execution_count": 26,
   "id": "e14cf653",
   "metadata": {
    "ExecuteTime": {
     "end_time": "2023-06-27T15:53:55.368274Z",
     "start_time": "2023-06-27T15:53:55.033982Z"
    }
   },
   "outputs": [
    {
     "data": {
      "text/plain": [
       "<matplotlib.colorbar.Colorbar at 0x7f7faac72c10>"
      ]
     },
     "execution_count": 26,
     "metadata": {},
     "output_type": "execute_result"
    },
    {
     "data": {
      "image/png": "[encoded data removed]",
      "text/plain": [
       "<Figure size 1200x400 with 2 Axes>"
      ]
     },
     "metadata": {},
     "output_type": "display_data"
    },
    {
     "ename": "AttributeError",
     "evalue": "module 'matplotlib' has no attribute 'pyplot'",
     "output_type": "error",
     "traceback": [
      "\u001b[0;31m---------------------------------------------------------------------------\u001b[0m",
      "\u001b[0;31mAttributeError\u001b[0m                            Traceback (most recent call last)",
      "File \u001b[0;32m/Library/Frameworks/Python.framework/Versions/3.8/lib/python3.8/site-packages/matplotlib_inline/backend_inline.py:99\u001b[0m, in \u001b[0;36mshow\u001b[0;34m(close, block)\u001b[0m\n\u001b[1;32m     96\u001b[0m \u001b[38;5;66;03m# only call close('all') if any to close\u001b[39;00m\n\u001b[1;32m     97\u001b[0m \u001b[38;5;66;03m# close triggers gc.collect, which can be slow\u001b[39;00m\n\u001b[1;32m     98\u001b[0m \u001b[38;5;28;01mif\u001b[39;00m close \u001b[38;5;129;01mand\u001b[39;00m Gcf\u001b[38;5;241m.\u001b[39mget_all_fig_managers():\n\u001b[0;32m---> 99\u001b[0m     \u001b[43mmatplotlib\u001b[49m\u001b[38;5;241;43m.\u001b[39;49m\u001b[43mpyplot\u001b[49m\u001b[38;5;241m.\u001b[39mclose(\u001b[38;5;124m'\u001b[39m\u001b[38;5;124mall\u001b[39m\u001b[38;5;124m'\u001b[39m)\n",
      "File \u001b[0;32m/Library/Frameworks/Python.framework/Versions/3.8/lib/python3.8/site-packages/matplotlib/_api/__init__.py:224\u001b[0m, in \u001b[0;36mcaching_module_getattr.<locals>.__getattr__\u001b[0;34m(name)\u001b[0m\n\u001b[1;32m    222\u001b[0m \u001b[38;5;28;01mif\u001b[39;00m name \u001b[38;5;129;01min\u001b[39;00m props:\n\u001b[1;32m    223\u001b[0m     \u001b[38;5;28;01mreturn\u001b[39;00m props[name]\u001b[38;5;241m.\u001b[39m\u001b[38;5;21m__get__\u001b[39m(instance)\n\u001b[0;32m--> 224\u001b[0m \u001b[38;5;28;01mraise\u001b[39;00m \u001b[38;5;167;01mAttributeError\u001b[39;00m(\n\u001b[1;32m    225\u001b[0m     \u001b[38;5;124mf\u001b[39m\u001b[38;5;124m\"\u001b[39m\u001b[38;5;124mmodule \u001b[39m\u001b[38;5;132;01m{\u001b[39;00m\u001b[38;5;28mcls\u001b[39m\u001b[38;5;241m.\u001b[39m\u001b[38;5;18m__module__\u001b[39m\u001b[38;5;132;01m!r}\u001b[39;00m\u001b[38;5;124m has no attribute \u001b[39m\u001b[38;5;132;01m{\u001b[39;00mname\u001b[38;5;132;01m!r}\u001b[39;00m\u001b[38;5;124m\"\u001b[39m)\n",
      "\u001b[0;31mAttributeError\u001b[0m: module 'matplotlib' has no attribute 'pyplot'"
     ]
    }
   ],
   "source": [
    "melspec = librosa.feature.melspectrogram(y=X, sr=sample_rate, n_mels=128)\n",
    "\n",
    "log_S = librosa.amplitude_to_db(melspec)\n",
    "\n",
    "plt.figure(figsize=(12,4))\n",
    "librosa.display.specshow(log_S, sr=sample_rate, x_axis='time', y_axis='mel')\n",
    "plt.title('Log mel spectrogram')\n",
    "plt.colorbar(format='%+02.0f dB')"
   ]
  },
  {
   "cell_type": "code",
   "execution_count": 27,
   "id": "1c9ff9fb",
   "metadata": {
    "ExecuteTime": {
     "end_time": "2023-06-27T15:53:55.386525Z",
     "start_time": "2023-06-27T15:53:55.383973Z"
    }
   },
   "outputs": [],
   "source": [
    "plt.close('all')"
   ]
  },
  {
   "cell_type": "code",
   "execution_count": 28,
   "id": "c7d85770",
   "metadata": {
    "ExecuteTime": {
     "end_time": "2023-06-27T15:53:55.395206Z",
     "start_time": "2023-06-27T15:53:55.389165Z"
    }
   },
   "outputs": [],
   "source": [
    "principalComponents_mfcc_df = pd.DataFrame(data = mfccs) \n",
    "principalComponents_melspec_df = pd.DataFrame(data = melspecs) \n",
    "# principalComponents_zero_crossing_df = pd.DataFrame(data = zero_cross_rates)"
   ]
  },
  {
   "cell_type": "code",
   "execution_count": 29,
   "id": "7d559c8f",
   "metadata": {
    "ExecuteTime": {
     "end_time": "2023-06-27T15:53:55.413658Z",
     "start_time": "2023-06-27T15:53:55.397491Z"
    }
   },
   "outputs": [
    {
     "data": {
      "text/html": [
       "<div>\n",
       "<style scoped>\n",
       "    .dataframe tbody tr th:only-of-type {\n",
       "        vertical-align: middle;\n",
       "    }\n",
       "\n",
       "    .dataframe tbody tr th {\n",
       "        vertical-align: top;\n",
       "    }\n",
       "\n",
       "    .dataframe thead th {\n",
       "        text-align: right;\n",
       "    }\n",
       "</style>\n",
       "<table border=\"1\" class=\"dataframe\">\n",
       "  <thead>\n",
       "    <tr style=\"text-align: right;\">\n",
       "      <th></th>\n",
       "      <th>emotion</th>\n",
       "      <th>gender</th>\n",
       "      <th>intensity</th>\n",
       "      <th>path</th>\n",
       "    </tr>\n",
       "  </thead>\n",
       "  <tbody>\n",
       "    <tr>\n",
       "      <th>0</th>\n",
       "      <td>ANG</td>\n",
       "      <td>0</td>\n",
       "      <td>XX</td>\n",
       "      <td>/Users/alexandradolidze/Desktop/ML/AudioWAV/10...</td>\n",
       "    </tr>\n",
       "    <tr>\n",
       "      <th>1</th>\n",
       "      <td>ANG</td>\n",
       "      <td>1</td>\n",
       "      <td>XX</td>\n",
       "      <td>/Users/alexandradolidze/Desktop/ML/AudioWAV/10...</td>\n",
       "    </tr>\n",
       "    <tr>\n",
       "      <th>2</th>\n",
       "      <td>NEU</td>\n",
       "      <td>1</td>\n",
       "      <td>XX</td>\n",
       "      <td>/Users/alexandradolidze/Desktop/ML/AudioWAV/10...</td>\n",
       "    </tr>\n",
       "    <tr>\n",
       "      <th>3</th>\n",
       "      <td>NEU</td>\n",
       "      <td>1</td>\n",
       "      <td>XX</td>\n",
       "      <td>/Users/alexandradolidze/Desktop/ML/AudioWAV/10...</td>\n",
       "    </tr>\n",
       "    <tr>\n",
       "      <th>4</th>\n",
       "      <td>DIS</td>\n",
       "      <td>1</td>\n",
       "      <td>XX</td>\n",
       "      <td>/Users/alexandradolidze/Desktop/ML/AudioWAV/10...</td>\n",
       "    </tr>\n",
       "    <tr>\n",
       "      <th>...</th>\n",
       "      <td>...</td>\n",
       "      <td>...</td>\n",
       "      <td>...</td>\n",
       "      <td>...</td>\n",
       "    </tr>\n",
       "    <tr>\n",
       "      <th>7437</th>\n",
       "      <td>ANG</td>\n",
       "      <td>1</td>\n",
       "      <td>XX</td>\n",
       "      <td>/Users/alexandradolidze/Desktop/ML/AudioWAV/10...</td>\n",
       "    </tr>\n",
       "    <tr>\n",
       "      <th>7438</th>\n",
       "      <td>ANG</td>\n",
       "      <td>1</td>\n",
       "      <td>XX</td>\n",
       "      <td>/Users/alexandradolidze/Desktop/ML/AudioWAV/10...</td>\n",
       "    </tr>\n",
       "    <tr>\n",
       "      <th>7439</th>\n",
       "      <td>ANG</td>\n",
       "      <td>1</td>\n",
       "      <td>XX</td>\n",
       "      <td>/Users/alexandradolidze/Desktop/ML/AudioWAV/10...</td>\n",
       "    </tr>\n",
       "    <tr>\n",
       "      <th>7440</th>\n",
       "      <td>ANG</td>\n",
       "      <td>0</td>\n",
       "      <td>XX</td>\n",
       "      <td>/Users/alexandradolidze/Desktop/ML/AudioWAV/10...</td>\n",
       "    </tr>\n",
       "    <tr>\n",
       "      <th>7441</th>\n",
       "      <td>NEU</td>\n",
       "      <td>1</td>\n",
       "      <td>XX</td>\n",
       "      <td>/Users/alexandradolidze/Desktop/ML/AudioWAV/10...</td>\n",
       "    </tr>\n",
       "  </tbody>\n",
       "</table>\n",
       "<p>7442 rows × 4 columns</p>\n",
       "</div>"
      ],
      "text/plain": [
       "     emotion  gender intensity  \\\n",
       "0        ANG       0        XX   \n",
       "1        ANG       1        XX   \n",
       "2        NEU       1        XX   \n",
       "3        NEU       1        XX   \n",
       "4        DIS       1        XX   \n",
       "...      ...     ...       ...   \n",
       "7437     ANG       1        XX   \n",
       "7438     ANG       1        XX   \n",
       "7439     ANG       1        XX   \n",
       "7440     ANG       0        XX   \n",
       "7441     NEU       1        XX   \n",
       "\n",
       "                                                   path  \n",
       "0     /Users/alexandradolidze/Desktop/ML/AudioWAV/10...  \n",
       "1     /Users/alexandradolidze/Desktop/ML/AudioWAV/10...  \n",
       "2     /Users/alexandradolidze/Desktop/ML/AudioWAV/10...  \n",
       "3     /Users/alexandradolidze/Desktop/ML/AudioWAV/10...  \n",
       "4     /Users/alexandradolidze/Desktop/ML/AudioWAV/10...  \n",
       "...                                                 ...  \n",
       "7437  /Users/alexandradolidze/Desktop/ML/AudioWAV/10...  \n",
       "7438  /Users/alexandradolidze/Desktop/ML/AudioWAV/10...  \n",
       "7439  /Users/alexandradolidze/Desktop/ML/AudioWAV/10...  \n",
       "7440  /Users/alexandradolidze/Desktop/ML/AudioWAV/10...  \n",
       "7441  /Users/alexandradolidze/Desktop/ML/AudioWAV/10...  \n",
       "\n",
       "[7442 rows x 4 columns]"
      ]
     },
     "execution_count": 29,
     "metadata": {},
     "output_type": "execute_result"
    }
   ],
   "source": [
    "CREMA_df"
   ]
  },
  {
   "cell_type": "code",
   "execution_count": 30,
   "id": "da5c4ef6",
   "metadata": {
    "ExecuteTime": {
     "end_time": "2023-06-27T15:53:55.441574Z",
     "start_time": "2023-06-27T15:53:55.416294Z"
    }
   },
   "outputs": [
    {
     "data": {
      "text/html": [
       "<div>\n",
       "<style scoped>\n",
       "    .dataframe tbody tr th:only-of-type {\n",
       "        vertical-align: middle;\n",
       "    }\n",
       "\n",
       "    .dataframe tbody tr th {\n",
       "        vertical-align: top;\n",
       "    }\n",
       "\n",
       "    .dataframe thead th {\n",
       "        text-align: right;\n",
       "    }\n",
       "</style>\n",
       "<table border=\"1\" class=\"dataframe\">\n",
       "  <thead>\n",
       "    <tr style=\"text-align: right;\">\n",
       "      <th></th>\n",
       "      <th>emotion</th>\n",
       "      <th>gender</th>\n",
       "      <th>intensity</th>\n",
       "      <th>path</th>\n",
       "      <th>0_MFCC</th>\n",
       "      <th>1_MFCC</th>\n",
       "      <th>0_Melspec</th>\n",
       "      <th>1_Melspec</th>\n",
       "    </tr>\n",
       "  </thead>\n",
       "  <tbody>\n",
       "    <tr>\n",
       "      <th>0</th>\n",
       "      <td>ANG</td>\n",
       "      <td>0</td>\n",
       "      <td>XX</td>\n",
       "      <td>/Users/alexandradolidze/Desktop/ML/AudioWAV/10...</td>\n",
       "      <td>-0.000007</td>\n",
       "      <td>0.000017</td>\n",
       "      <td>-0.000011</td>\n",
       "      <td>0.000004</td>\n",
       "    </tr>\n",
       "    <tr>\n",
       "      <th>1</th>\n",
       "      <td>ANG</td>\n",
       "      <td>1</td>\n",
       "      <td>XX</td>\n",
       "      <td>/Users/alexandradolidze/Desktop/ML/AudioWAV/10...</td>\n",
       "      <td>0.000045</td>\n",
       "      <td>0.000005</td>\n",
       "      <td>0.000211</td>\n",
       "      <td>0.000082</td>\n",
       "    </tr>\n",
       "    <tr>\n",
       "      <th>2</th>\n",
       "      <td>NEU</td>\n",
       "      <td>1</td>\n",
       "      <td>XX</td>\n",
       "      <td>/Users/alexandradolidze/Desktop/ML/AudioWAV/10...</td>\n",
       "      <td>-0.000008</td>\n",
       "      <td>-0.000001</td>\n",
       "      <td>-0.000307</td>\n",
       "      <td>0.000053</td>\n",
       "    </tr>\n",
       "    <tr>\n",
       "      <th>3</th>\n",
       "      <td>NEU</td>\n",
       "      <td>1</td>\n",
       "      <td>XX</td>\n",
       "      <td>/Users/alexandradolidze/Desktop/ML/AudioWAV/10...</td>\n",
       "      <td>-0.000008</td>\n",
       "      <td>0.000003</td>\n",
       "      <td>0.000433</td>\n",
       "      <td>0.000165</td>\n",
       "    </tr>\n",
       "    <tr>\n",
       "      <th>4</th>\n",
       "      <td>DIS</td>\n",
       "      <td>1</td>\n",
       "      <td>XX</td>\n",
       "      <td>/Users/alexandradolidze/Desktop/ML/AudioWAV/10...</td>\n",
       "      <td>0.000015</td>\n",
       "      <td>0.000002</td>\n",
       "      <td>0.000179</td>\n",
       "      <td>-0.000169</td>\n",
       "    </tr>\n",
       "    <tr>\n",
       "      <th>...</th>\n",
       "      <td>...</td>\n",
       "      <td>...</td>\n",
       "      <td>...</td>\n",
       "      <td>...</td>\n",
       "      <td>...</td>\n",
       "      <td>...</td>\n",
       "      <td>...</td>\n",
       "      <td>...</td>\n",
       "    </tr>\n",
       "    <tr>\n",
       "      <th>7437</th>\n",
       "      <td>ANG</td>\n",
       "      <td>1</td>\n",
       "      <td>XX</td>\n",
       "      <td>/Users/alexandradolidze/Desktop/ML/AudioWAV/10...</td>\n",
       "      <td>0.000003</td>\n",
       "      <td>-0.000006</td>\n",
       "      <td>0.000050</td>\n",
       "      <td>0.000019</td>\n",
       "    </tr>\n",
       "    <tr>\n",
       "      <th>7438</th>\n",
       "      <td>ANG</td>\n",
       "      <td>1</td>\n",
       "      <td>XX</td>\n",
       "      <td>/Users/alexandradolidze/Desktop/ML/AudioWAV/10...</td>\n",
       "      <td>-0.000024</td>\n",
       "      <td>0.000023</td>\n",
       "      <td>0.000060</td>\n",
       "      <td>0.000081</td>\n",
       "    </tr>\n",
       "    <tr>\n",
       "      <th>7439</th>\n",
       "      <td>ANG</td>\n",
       "      <td>1</td>\n",
       "      <td>XX</td>\n",
       "      <td>/Users/alexandradolidze/Desktop/ML/AudioWAV/10...</td>\n",
       "      <td>-0.000016</td>\n",
       "      <td>-0.000005</td>\n",
       "      <td>-0.000044</td>\n",
       "      <td>-0.000032</td>\n",
       "    </tr>\n",
       "    <tr>\n",
       "      <th>7440</th>\n",
       "      <td>ANG</td>\n",
       "      <td>0</td>\n",
       "      <td>XX</td>\n",
       "      <td>/Users/alexandradolidze/Desktop/ML/AudioWAV/10...</td>\n",
       "      <td>-0.000063</td>\n",
       "      <td>0.000005</td>\n",
       "      <td>-0.000088</td>\n",
       "      <td>-0.000178</td>\n",
       "    </tr>\n",
       "    <tr>\n",
       "      <th>7441</th>\n",
       "      <td>NEU</td>\n",
       "      <td>1</td>\n",
       "      <td>XX</td>\n",
       "      <td>/Users/alexandradolidze/Desktop/ML/AudioWAV/10...</td>\n",
       "      <td>-0.000015</td>\n",
       "      <td>0.000006</td>\n",
       "      <td>0.000345</td>\n",
       "      <td>0.000324</td>\n",
       "    </tr>\n",
       "  </tbody>\n",
       "</table>\n",
       "<p>7442 rows × 8 columns</p>\n",
       "</div>"
      ],
      "text/plain": [
       "     emotion  gender intensity  \\\n",
       "0        ANG       0        XX   \n",
       "1        ANG       1        XX   \n",
       "2        NEU       1        XX   \n",
       "3        NEU       1        XX   \n",
       "4        DIS       1        XX   \n",
       "...      ...     ...       ...   \n",
       "7437     ANG       1        XX   \n",
       "7438     ANG       1        XX   \n",
       "7439     ANG       1        XX   \n",
       "7440     ANG       0        XX   \n",
       "7441     NEU       1        XX   \n",
       "\n",
       "                                                   path    0_MFCC    1_MFCC  \\\n",
       "0     /Users/alexandradolidze/Desktop/ML/AudioWAV/10... -0.000007  0.000017   \n",
       "1     /Users/alexandradolidze/Desktop/ML/AudioWAV/10...  0.000045  0.000005   \n",
       "2     /Users/alexandradolidze/Desktop/ML/AudioWAV/10... -0.000008 -0.000001   \n",
       "3     /Users/alexandradolidze/Desktop/ML/AudioWAV/10... -0.000008  0.000003   \n",
       "4     /Users/alexandradolidze/Desktop/ML/AudioWAV/10...  0.000015  0.000002   \n",
       "...                                                 ...       ...       ...   \n",
       "7437  /Users/alexandradolidze/Desktop/ML/AudioWAV/10...  0.000003 -0.000006   \n",
       "7438  /Users/alexandradolidze/Desktop/ML/AudioWAV/10... -0.000024  0.000023   \n",
       "7439  /Users/alexandradolidze/Desktop/ML/AudioWAV/10... -0.000016 -0.000005   \n",
       "7440  /Users/alexandradolidze/Desktop/ML/AudioWAV/10... -0.000063  0.000005   \n",
       "7441  /Users/alexandradolidze/Desktop/ML/AudioWAV/10... -0.000015  0.000006   \n",
       "\n",
       "      0_Melspec  1_Melspec  \n",
       "0     -0.000011   0.000004  \n",
       "1      0.000211   0.000082  \n",
       "2     -0.000307   0.000053  \n",
       "3      0.000433   0.000165  \n",
       "4      0.000179  -0.000169  \n",
       "...         ...        ...  \n",
       "7437   0.000050   0.000019  \n",
       "7438   0.000060   0.000081  \n",
       "7439  -0.000044  -0.000032  \n",
       "7440  -0.000088  -0.000178  \n",
       "7441   0.000345   0.000324  \n",
       "\n",
       "[7442 rows x 8 columns]"
      ]
     },
     "execution_count": 30,
     "metadata": {},
     "output_type": "execute_result"
    }
   ],
   "source": [
    "principalComponents_mfcc_df = principalComponents_mfcc_df.add_suffix('_MFCC')\n",
    "principalComponents_melspec_df = principalComponents_melspec_df.add_suffix('_Melspec')\n",
    "# principalComponents_zero_crossing_df = principalComponents_zero_crossing_df.add_suffix('_Zero-Crossing')\n",
    "\n",
    "CREMA_df = pd.concat([CREMA_df, principalComponents_mfcc_df, principalComponents_melspec_df], axis=1)\n",
    "\n",
    "CREMA_df"
   ]
  },
  {
   "cell_type": "code",
   "execution_count": 31,
   "id": "c11870dd",
   "metadata": {
    "ExecuteTime": {
     "end_time": "2023-06-27T15:53:55.449485Z",
     "start_time": "2023-06-27T15:53:55.444899Z"
    }
   },
   "outputs": [
    {
     "data": {
      "text/plain": [
       "(7442, 8)"
      ]
     },
     "execution_count": 31,
     "metadata": {},
     "output_type": "execute_result"
    }
   ],
   "source": [
    "CREMA_df.shape"
   ]
  },
  {
   "cell_type": "markdown",
   "id": "55d4f5c4",
   "metadata": {},
   "source": [
    "## Классификация"
   ]
  },
  {
   "cell_type": "code",
   "execution_count": 32,
   "id": "39df3687",
   "metadata": {
    "ExecuteTime": {
     "end_time": "2023-06-27T15:53:55.463770Z",
     "start_time": "2023-06-27T15:53:55.451796Z"
    }
   },
   "outputs": [
    {
     "name": "stdout",
     "output_type": "stream",
     "text": [
      "['HI' 'LO' 'MD' 'X' 'XX']\n"
     ]
    }
   ],
   "source": [
    "# Перекодируем intensity\n",
    "\n",
    "from sklearn import preprocessing\n",
    "le = preprocessing.LabelEncoder()\n",
    "\n",
    "intesity_value = CREMA_df['intensity'].values\n",
    "\n",
    "le.fit(intesity_value)\n",
    "print(le.classes_)\n",
    "CREMA_df['intensity'] = list(le.transform(intesity_value))"
   ]
  },
  {
   "cell_type": "code",
   "execution_count": 33,
   "id": "bf75902e",
   "metadata": {
    "ExecuteTime": {
     "end_time": "2023-06-27T15:53:55.479679Z",
     "start_time": "2023-06-27T15:53:55.466021Z"
    },
    "scrolled": true
   },
   "outputs": [
    {
     "data": {
      "text/html": [
       "<div>\n",
       "<style scoped>\n",
       "    .dataframe tbody tr th:only-of-type {\n",
       "        vertical-align: middle;\n",
       "    }\n",
       "\n",
       "    .dataframe tbody tr th {\n",
       "        vertical-align: top;\n",
       "    }\n",
       "\n",
       "    .dataframe thead th {\n",
       "        text-align: right;\n",
       "    }\n",
       "</style>\n",
       "<table border=\"1\" class=\"dataframe\">\n",
       "  <thead>\n",
       "    <tr style=\"text-align: right;\">\n",
       "      <th></th>\n",
       "      <th>emotion</th>\n",
       "      <th>gender</th>\n",
       "      <th>intensity</th>\n",
       "      <th>path</th>\n",
       "      <th>0_MFCC</th>\n",
       "      <th>1_MFCC</th>\n",
       "      <th>0_Melspec</th>\n",
       "      <th>1_Melspec</th>\n",
       "    </tr>\n",
       "  </thead>\n",
       "  <tbody>\n",
       "    <tr>\n",
       "      <th>0</th>\n",
       "      <td>ANG</td>\n",
       "      <td>0</td>\n",
       "      <td>4</td>\n",
       "      <td>/Users/alexandradolidze/Desktop/ML/AudioWAV/10...</td>\n",
       "      <td>-0.000007</td>\n",
       "      <td>0.000017</td>\n",
       "      <td>-0.000011</td>\n",
       "      <td>0.000004</td>\n",
       "    </tr>\n",
       "    <tr>\n",
       "      <th>1</th>\n",
       "      <td>ANG</td>\n",
       "      <td>1</td>\n",
       "      <td>4</td>\n",
       "      <td>/Users/alexandradolidze/Desktop/ML/AudioWAV/10...</td>\n",
       "      <td>0.000045</td>\n",
       "      <td>0.000005</td>\n",
       "      <td>0.000211</td>\n",
       "      <td>0.000082</td>\n",
       "    </tr>\n",
       "    <tr>\n",
       "      <th>2</th>\n",
       "      <td>NEU</td>\n",
       "      <td>1</td>\n",
       "      <td>4</td>\n",
       "      <td>/Users/alexandradolidze/Desktop/ML/AudioWAV/10...</td>\n",
       "      <td>-0.000008</td>\n",
       "      <td>-0.000001</td>\n",
       "      <td>-0.000307</td>\n",
       "      <td>0.000053</td>\n",
       "    </tr>\n",
       "    <tr>\n",
       "      <th>3</th>\n",
       "      <td>NEU</td>\n",
       "      <td>1</td>\n",
       "      <td>4</td>\n",
       "      <td>/Users/alexandradolidze/Desktop/ML/AudioWAV/10...</td>\n",
       "      <td>-0.000008</td>\n",
       "      <td>0.000003</td>\n",
       "      <td>0.000433</td>\n",
       "      <td>0.000165</td>\n",
       "    </tr>\n",
       "    <tr>\n",
       "      <th>4</th>\n",
       "      <td>DIS</td>\n",
       "      <td>1</td>\n",
       "      <td>4</td>\n",
       "      <td>/Users/alexandradolidze/Desktop/ML/AudioWAV/10...</td>\n",
       "      <td>0.000015</td>\n",
       "      <td>0.000002</td>\n",
       "      <td>0.000179</td>\n",
       "      <td>-0.000169</td>\n",
       "    </tr>\n",
       "    <tr>\n",
       "      <th>...</th>\n",
       "      <td>...</td>\n",
       "      <td>...</td>\n",
       "      <td>...</td>\n",
       "      <td>...</td>\n",
       "      <td>...</td>\n",
       "      <td>...</td>\n",
       "      <td>...</td>\n",
       "      <td>...</td>\n",
       "    </tr>\n",
       "    <tr>\n",
       "      <th>7437</th>\n",
       "      <td>ANG</td>\n",
       "      <td>1</td>\n",
       "      <td>4</td>\n",
       "      <td>/Users/alexandradolidze/Desktop/ML/AudioWAV/10...</td>\n",
       "      <td>0.000003</td>\n",
       "      <td>-0.000006</td>\n",
       "      <td>0.000050</td>\n",
       "      <td>0.000019</td>\n",
       "    </tr>\n",
       "    <tr>\n",
       "      <th>7438</th>\n",
       "      <td>ANG</td>\n",
       "      <td>1</td>\n",
       "      <td>4</td>\n",
       "      <td>/Users/alexandradolidze/Desktop/ML/AudioWAV/10...</td>\n",
       "      <td>-0.000024</td>\n",
       "      <td>0.000023</td>\n",
       "      <td>0.000060</td>\n",
       "      <td>0.000081</td>\n",
       "    </tr>\n",
       "    <tr>\n",
       "      <th>7439</th>\n",
       "      <td>ANG</td>\n",
       "      <td>1</td>\n",
       "      <td>4</td>\n",
       "      <td>/Users/alexandradolidze/Desktop/ML/AudioWAV/10...</td>\n",
       "      <td>-0.000016</td>\n",
       "      <td>-0.000005</td>\n",
       "      <td>-0.000044</td>\n",
       "      <td>-0.000032</td>\n",
       "    </tr>\n",
       "    <tr>\n",
       "      <th>7440</th>\n",
       "      <td>ANG</td>\n",
       "      <td>0</td>\n",
       "      <td>4</td>\n",
       "      <td>/Users/alexandradolidze/Desktop/ML/AudioWAV/10...</td>\n",
       "      <td>-0.000063</td>\n",
       "      <td>0.000005</td>\n",
       "      <td>-0.000088</td>\n",
       "      <td>-0.000178</td>\n",
       "    </tr>\n",
       "    <tr>\n",
       "      <th>7441</th>\n",
       "      <td>NEU</td>\n",
       "      <td>1</td>\n",
       "      <td>4</td>\n",
       "      <td>/Users/alexandradolidze/Desktop/ML/AudioWAV/10...</td>\n",
       "      <td>-0.000015</td>\n",
       "      <td>0.000006</td>\n",
       "      <td>0.000345</td>\n",
       "      <td>0.000324</td>\n",
       "    </tr>\n",
       "  </tbody>\n",
       "</table>\n",
       "<p>7442 rows × 8 columns</p>\n",
       "</div>"
      ],
      "text/plain": [
       "     emotion  gender  intensity  \\\n",
       "0        ANG       0          4   \n",
       "1        ANG       1          4   \n",
       "2        NEU       1          4   \n",
       "3        NEU       1          4   \n",
       "4        DIS       1          4   \n",
       "...      ...     ...        ...   \n",
       "7437     ANG       1          4   \n",
       "7438     ANG       1          4   \n",
       "7439     ANG       1          4   \n",
       "7440     ANG       0          4   \n",
       "7441     NEU       1          4   \n",
       "\n",
       "                                                   path    0_MFCC    1_MFCC  \\\n",
       "0     /Users/alexandradolidze/Desktop/ML/AudioWAV/10... -0.000007  0.000017   \n",
       "1     /Users/alexandradolidze/Desktop/ML/AudioWAV/10...  0.000045  0.000005   \n",
       "2     /Users/alexandradolidze/Desktop/ML/AudioWAV/10... -0.000008 -0.000001   \n",
       "3     /Users/alexandradolidze/Desktop/ML/AudioWAV/10... -0.000008  0.000003   \n",
       "4     /Users/alexandradolidze/Desktop/ML/AudioWAV/10...  0.000015  0.000002   \n",
       "...                                                 ...       ...       ...   \n",
       "7437  /Users/alexandradolidze/Desktop/ML/AudioWAV/10...  0.000003 -0.000006   \n",
       "7438  /Users/alexandradolidze/Desktop/ML/AudioWAV/10... -0.000024  0.000023   \n",
       "7439  /Users/alexandradolidze/Desktop/ML/AudioWAV/10... -0.000016 -0.000005   \n",
       "7440  /Users/alexandradolidze/Desktop/ML/AudioWAV/10... -0.000063  0.000005   \n",
       "7441  /Users/alexandradolidze/Desktop/ML/AudioWAV/10... -0.000015  0.000006   \n",
       "\n",
       "      0_Melspec  1_Melspec  \n",
       "0     -0.000011   0.000004  \n",
       "1      0.000211   0.000082  \n",
       "2     -0.000307   0.000053  \n",
       "3      0.000433   0.000165  \n",
       "4      0.000179  -0.000169  \n",
       "...         ...        ...  \n",
       "7437   0.000050   0.000019  \n",
       "7438   0.000060   0.000081  \n",
       "7439  -0.000044  -0.000032  \n",
       "7440  -0.000088  -0.000178  \n",
       "7441   0.000345   0.000324  \n",
       "\n",
       "[7442 rows x 8 columns]"
      ]
     },
     "execution_count": 33,
     "metadata": {},
     "output_type": "execute_result"
    }
   ],
   "source": [
    "CREMA_df"
   ]
  },
  {
   "cell_type": "code",
   "execution_count": 34,
   "id": "5eb15e15",
   "metadata": {
    "ExecuteTime": {
     "end_time": "2023-06-27T15:53:55.494924Z",
     "start_time": "2023-06-27T15:53:55.482202Z"
    }
   },
   "outputs": [],
   "source": [
    "from sklearn.model_selection import train_test_split\n",
    "from sklearn.preprocessing import StandardScaler\n",
    "from sklearn.pipeline import Pipeline\n",
    "from sklearn.naive_bayes import GaussianNB\n",
    "from sklearn.linear_model import LogisticRegression\n",
    "from sklearn.metrics import accuracy_score, classification_report, silhouette_score"
   ]
  },
  {
   "cell_type": "markdown",
   "id": "84423517",
   "metadata": {},
   "source": [
    "### Определение пола говорящего (бинарная классификация)"
   ]
  },
  {
   "cell_type": "code",
   "execution_count": 35,
   "id": "9ab7f663",
   "metadata": {
    "ExecuteTime": {
     "end_time": "2023-06-27T15:53:55.504985Z",
     "start_time": "2023-06-27T15:53:55.496911Z"
    }
   },
   "outputs": [],
   "source": [
    "binary_X = CREMA_df.drop(columns=['emotion', 'path', 'gender'], axis=1).values\n",
    "binary_y = CREMA_df['gender'].values"
   ]
  },
  {
   "cell_type": "code",
   "execution_count": 36,
   "id": "7ed4cb51",
   "metadata": {
    "ExecuteTime": {
     "end_time": "2023-06-27T15:53:55.516060Z",
     "start_time": "2023-06-27T15:53:55.508033Z"
    }
   },
   "outputs": [],
   "source": [
    "X_train, X_test, y_train, y_test = train_test_split(binary_X, binary_y, test_size=0.33, random_state=322)"
   ]
  },
  {
   "cell_type": "markdown",
   "id": "2b0cc12b",
   "metadata": {},
   "source": [
    "#### Рандомный бейзлайн"
   ]
  },
  {
   "cell_type": "code",
   "execution_count": 37,
   "id": "164d565d",
   "metadata": {
    "ExecuteTime": {
     "end_time": "2023-06-27T15:53:55.520938Z",
     "start_time": "2023-06-27T15:53:55.518178Z"
    }
   },
   "outputs": [],
   "source": [
    "from collections import Counter"
   ]
  },
  {
   "cell_type": "code",
   "execution_count": 38,
   "id": "78bf7cbe",
   "metadata": {
    "ExecuteTime": {
     "end_time": "2023-06-27T15:53:55.528633Z",
     "start_time": "2023-06-27T15:53:55.523538Z"
    }
   },
   "outputs": [],
   "source": [
    "num_samples = CREMA_df.shape[0]  \n",
    "prior_class_counts = Counter(binary_y)  \n",
    "prior_class_probs = dict()\n",
    "for class_label in prior_class_counts:\n",
    "    prior_class_probs[class_label] = prior_class_counts[class_label] / num_samples"
   ]
  },
  {
   "cell_type": "code",
   "execution_count": 39,
   "id": "40e1014f",
   "metadata": {
    "ExecuteTime": {
     "end_time": "2023-06-27T15:53:55.548414Z",
     "start_time": "2023-06-27T15:53:55.530982Z"
    }
   },
   "outputs": [
    {
     "name": "stdout",
     "output_type": "stream",
     "text": [
      "Accuracy: 0.4853\n",
      "              precision    recall  f1-score   support\n",
      "\n",
      "        male       0.51      0.52      0.52      1298\n",
      "      female       0.45      0.45      0.45      1158\n",
      "\n",
      "    accuracy                           0.49      2456\n",
      "   macro avg       0.48      0.48      0.48      2456\n",
      "weighted avg       0.48      0.49      0.49      2456\n",
      "\n"
     ]
    }
   ],
   "source": [
    "import random\n",
    "random.seed(322)\n",
    "\n",
    "random_pred = random.choices([0, 1], \n",
    "                             weights=(list(prior_class_probs.values())),\n",
    "                             k=len(X_test))\n",
    "\n",
    "print(\"Accuracy: {:.4}\".format(accuracy_score(y_test, random_pred)))\n",
    "\n",
    "print(classification_report(y_test, random_pred, target_names = ['male', 'female']))"
   ]
  },
  {
   "cell_type": "markdown",
   "id": "19048166",
   "metadata": {},
   "source": [
    "#### Логистическая регрессия"
   ]
  },
  {
   "cell_type": "code",
   "execution_count": 40,
   "id": "d2632cdd",
   "metadata": {
    "ExecuteTime": {
     "end_time": "2023-06-27T15:53:55.554474Z",
     "start_time": "2023-06-27T15:53:55.550734Z"
    }
   },
   "outputs": [],
   "source": [
    "model_log_reg = Pipeline([\n",
    "    ('scaler', StandardScaler()),\n",
    "    ('log_reg', LogisticRegression(class_weight = 'balanced'))\n",
    "], verbose=True)"
   ]
  },
  {
   "cell_type": "code",
   "execution_count": 41,
   "id": "8a5fddd1",
   "metadata": {
    "ExecuteTime": {
     "end_time": "2023-06-27T15:53:55.594733Z",
     "start_time": "2023-06-27T15:53:55.557282Z"
    }
   },
   "outputs": [
    {
     "name": "stdout",
     "output_type": "stream",
     "text": [
      "[Pipeline] ............ (step 1 of 2) Processing scaler, total=   0.0s\n",
      "[Pipeline] ........... (step 2 of 2) Processing log_reg, total=   0.0s\n"
     ]
    }
   ],
   "source": [
    "model_log_reg.fit(X_train, y_train)\n",
    "y_pred_log_reg = model_log_reg.predict(X_test)"
   ]
  },
  {
   "cell_type": "code",
   "execution_count": 42,
   "id": "79d52bce",
   "metadata": {
    "ExecuteTime": {
     "end_time": "2023-06-27T15:53:55.611507Z",
     "start_time": "2023-06-27T15:53:55.597431Z"
    }
   },
   "outputs": [
    {
     "name": "stdout",
     "output_type": "stream",
     "text": [
      "Accuracy: 0.5106\n",
      "              precision    recall  f1-score   support\n",
      "\n",
      "        male       0.54      0.49      0.51      1298\n",
      "      female       0.48      0.54      0.51      1158\n",
      "\n",
      "    accuracy                           0.51      2456\n",
      "   macro avg       0.51      0.51      0.51      2456\n",
      "weighted avg       0.51      0.51      0.51      2456\n",
      "\n"
     ]
    }
   ],
   "source": [
    "print(\"Accuracy: {:.4}\".format(accuracy_score(y_test, y_pred_log_reg)))\n",
    "\n",
    "print(classification_report(y_test, y_pred_log_reg, target_names = ['male', 'female']))"
   ]
  },
  {
   "cell_type": "markdown",
   "id": "e25652df",
   "metadata": {},
   "source": [
    "#### Naive Bayes"
   ]
  },
  {
   "cell_type": "code",
   "execution_count": 43,
   "id": "c93f896e",
   "metadata": {
    "ExecuteTime": {
     "end_time": "2023-06-27T15:53:55.617576Z",
     "start_time": "2023-06-27T15:53:55.614314Z"
    }
   },
   "outputs": [],
   "source": [
    "model_naive = Pipeline([\n",
    "    ('scaler', StandardScaler()),\n",
    "    ('naive_bayes', GaussianNB())\n",
    "], verbose=True)"
   ]
  },
  {
   "cell_type": "code",
   "execution_count": 44,
   "id": "1a7e16e9",
   "metadata": {
    "ExecuteTime": {
     "end_time": "2023-06-27T15:53:55.634002Z",
     "start_time": "2023-06-27T15:53:55.620375Z"
    }
   },
   "outputs": [
    {
     "name": "stdout",
     "output_type": "stream",
     "text": [
      "[Pipeline] ............ (step 1 of 2) Processing scaler, total=   0.0s\n",
      "[Pipeline] ....... (step 2 of 2) Processing naive_bayes, total=   0.0s\n"
     ]
    },
    {
     "data": {
      "text/html": [
       "<style>#sk-container-id-1 {color: black;background-color: white;}#sk-container-id-1 pre{padding: 0;}#sk-container-id-1 div.sk-toggleable {background-color: white;}#sk-container-id-1 label.sk-toggleable__label {cursor: pointer;display: block;width: 100%;margin-bottom: 0;padding: 0.3em;box-sizing: border-box;text-align: center;}#sk-container-id-1 label.sk-toggleable__label-arrow:before {content: \"▸\";float: left;margin-right: 0.25em;color: #696969;}#sk-container-id-1 label.sk-toggleable__label-arrow:hover:before {color: black;}#sk-container-id-1 div.sk-estimator:hover label.sk-toggleable__label-arrow:before {color: black;}#sk-container-id-1 div.sk-toggleable__content {max-height: 0;max-width: 0;overflow: hidden;text-align: left;background-color: #f0f8ff;}#sk-container-id-1 div.sk-toggleable__content pre {margin: 0.2em;color: black;border-radius: 0.25em;background-color: #f0f8ff;}#sk-container-id-1 input.sk-toggleable__control:checked~div.sk-toggleable__content {max-height: 200px;max-width: 100%;overflow: auto;}#sk-container-id-1 input.sk-toggleable__control:checked~label.sk-toggleable__label-arrow:before {content: \"▾\";}#sk-container-id-1 div.sk-estimator input.sk-toggleable__control:checked~label.sk-toggleable__label {background-color: #d4ebff;}#sk-container-id-1 div.sk-label input.sk-toggleable__control:checked~label.sk-toggleable__label {background-color: #d4ebff;}#sk-container-id-1 input.sk-hidden--visually {border: 0;clip: rect(1px 1px 1px 1px);clip: rect(1px, 1px, 1px, 1px);height: 1px;margin: -1px;overflow: hidden;padding: 0;position: absolute;width: 1px;}#sk-container-id-1 div.sk-estimator {font-family: monospace;background-color: #f0f8ff;border: 1px dotted black;border-radius: 0.25em;box-sizing: border-box;margin-bottom: 0.5em;}#sk-container-id-1 div.sk-estimator:hover {background-color: #d4ebff;}#sk-container-id-1 div.sk-parallel-item::after {content: \"\";width: 100%;border-bottom: 1px solid gray;flex-grow: 1;}#sk-container-id-1 div.sk-label:hover label.sk-toggleable__label {background-color: #d4ebff;}#sk-container-id-1 div.sk-serial::before {content: \"\";position: absolute;border-left: 1px solid gray;box-sizing: border-box;top: 0;bottom: 0;left: 50%;z-index: 0;}#sk-container-id-1 div.sk-serial {display: flex;flex-direction: column;align-items: center;background-color: white;padding-right: 0.2em;padding-left: 0.2em;position: relative;}#sk-container-id-1 div.sk-item {position: relative;z-index: 1;}#sk-container-id-1 div.sk-parallel {display: flex;align-items: stretch;justify-content: center;background-color: white;position: relative;}#sk-container-id-1 div.sk-item::before, #sk-container-id-1 div.sk-parallel-item::before {content: \"\";position: absolute;border-left: 1px solid gray;box-sizing: border-box;top: 0;bottom: 0;left: 50%;z-index: -1;}#sk-container-id-1 div.sk-parallel-item {display: flex;flex-direction: column;z-index: 1;position: relative;background-color: white;}#sk-container-id-1 div.sk-parallel-item:first-child::after {align-self: flex-end;width: 50%;}#sk-container-id-1 div.sk-parallel-item:last-child::after {align-self: flex-start;width: 50%;}#sk-container-id-1 div.sk-parallel-item:only-child::after {width: 0;}#sk-container-id-1 div.sk-dashed-wrapped {border: 1px dashed gray;margin: 0 0.4em 0.5em 0.4em;box-sizing: border-box;padding-bottom: 0.4em;background-color: white;}#sk-container-id-1 div.sk-label label {font-family: monospace;font-weight: bold;display: inline-block;line-height: 1.2em;}#sk-container-id-1 div.sk-label-container {text-align: center;}#sk-container-id-1 div.sk-container {/* jupyter's `normalize.less` sets `[hidden] { display: none; }` but bootstrap.min.css set `[hidden] { display: none !important; }` so we also need the `!important` here to be able to override the default hidden behavior on the sphinx rendered scikit-learn.org. See: https://github.com/scikit-learn/scikit-learn/issues/21755 */display: inline-block !important;position: relative;}#sk-container-id-1 div.sk-text-repr-fallback {display: none;}</style><div id=\"sk-container-id-1\" class=\"sk-top-container\"><div class=\"sk-text-repr-fallback\"><pre>Pipeline(steps=[(&#x27;scaler&#x27;, StandardScaler()), (&#x27;naive_bayes&#x27;, GaussianNB())],\n",
       "         verbose=True)</pre><b>In a Jupyter environment, please rerun this cell to show the HTML representation or trust the notebook. <br />On GitHub, the HTML representation is unable to render, please try loading this page with nbviewer.org.</b></div><div class=\"sk-container\" hidden><div class=\"sk-item sk-dashed-wrapped\"><div class=\"sk-label-container\"><div class=\"sk-label sk-toggleable\"><input class=\"sk-toggleable__control sk-hidden--visually\" id=\"sk-estimator-id-1\" type=\"checkbox\" ><label for=\"sk-estimator-id-1\" class=\"sk-toggleable__label sk-toggleable__label-arrow\">Pipeline</label><div class=\"sk-toggleable__content\"><pre>Pipeline(steps=[(&#x27;scaler&#x27;, StandardScaler()), (&#x27;naive_bayes&#x27;, GaussianNB())],\n",
       "         verbose=True)</pre></div></div></div><div class=\"sk-serial\"><div class=\"sk-item\"><div class=\"sk-estimator sk-toggleable\"><input class=\"sk-toggleable__control sk-hidden--visually\" id=\"sk-estimator-id-2\" type=\"checkbox\" ><label for=\"sk-estimator-id-2\" class=\"sk-toggleable__label sk-toggleable__label-arrow\">StandardScaler</label><div class=\"sk-toggleable__content\"><pre>StandardScaler()</pre></div></div></div><div class=\"sk-item\"><div class=\"sk-estimator sk-toggleable\"><input class=\"sk-toggleable__control sk-hidden--visually\" id=\"sk-estimator-id-3\" type=\"checkbox\" ><label for=\"sk-estimator-id-3\" class=\"sk-toggleable__label sk-toggleable__label-arrow\">GaussianNB</label><div class=\"sk-toggleable__content\"><pre>GaussianNB()</pre></div></div></div></div></div></div></div>"
      ],
      "text/plain": [
       "Pipeline(steps=[('scaler', StandardScaler()), ('naive_bayes', GaussianNB())],\n",
       "         verbose=True)"
      ]
     },
     "execution_count": 44,
     "metadata": {},
     "output_type": "execute_result"
    }
   ],
   "source": [
    "model_naive.fit(X_train, y_train)"
   ]
  },
  {
   "cell_type": "code",
   "execution_count": 45,
   "id": "4d096a78",
   "metadata": {
    "ExecuteTime": {
     "end_time": "2023-06-27T15:53:55.642304Z",
     "start_time": "2023-06-27T15:53:55.636666Z"
    }
   },
   "outputs": [],
   "source": [
    "y_pred_naive = model_naive.predict(X_test)"
   ]
  },
  {
   "cell_type": "code",
   "execution_count": 46,
   "id": "7597f7c7",
   "metadata": {
    "ExecuteTime": {
     "end_time": "2023-06-27T15:53:55.659302Z",
     "start_time": "2023-06-27T15:53:55.645617Z"
    }
   },
   "outputs": [
    {
     "name": "stdout",
     "output_type": "stream",
     "text": [
      "Accuracy: 0.5651\n",
      "              precision    recall  f1-score   support\n",
      "\n",
      "        male       0.56      0.81      0.66      1298\n",
      "      female       0.58      0.29      0.39      1158\n",
      "\n",
      "    accuracy                           0.57      2456\n",
      "   macro avg       0.57      0.55      0.53      2456\n",
      "weighted avg       0.57      0.57      0.53      2456\n",
      "\n"
     ]
    }
   ],
   "source": [
    "print(f'Accuracy: {accuracy_score(y_test, y_pred_naive):.4}')\n",
    "\n",
    "print(classification_report(y_test, y_pred_naive, target_names = ['male', 'female']))"
   ]
  },
  {
   "cell_type": "markdown",
   "id": "75ce0308",
   "metadata": {},
   "source": [
    "### Определение эмоции говорящего (мультиклассовая классификация)"
   ]
  },
  {
   "cell_type": "code",
   "execution_count": 47,
   "id": "cbe490a1",
   "metadata": {
    "ExecuteTime": {
     "end_time": "2023-06-27T15:53:55.669153Z",
     "start_time": "2023-06-27T15:53:55.662506Z"
    }
   },
   "outputs": [],
   "source": [
    "multiclass_X = CREMA_df.drop(columns=['path', 'emotion', 'gender'], axis=1).values\n",
    "multiclass_y = CREMA_df['emotion'].values"
   ]
  },
  {
   "cell_type": "code",
   "execution_count": 48,
   "id": "8889ae47",
   "metadata": {
    "ExecuteTime": {
     "end_time": "2023-06-27T15:53:55.734947Z",
     "start_time": "2023-06-27T15:53:55.672046Z"
    }
   },
   "outputs": [],
   "source": [
    "from sklearn.preprocessing import MinMaxScaler\n",
    "from sklearn.naive_bayes import MultinomialNB\n",
    "from sklearn.tree import DecisionTreeClassifier"
   ]
  },
  {
   "cell_type": "code",
   "execution_count": 49,
   "id": "a0d13cdb",
   "metadata": {
    "ExecuteTime": {
     "end_time": "2023-06-27T15:53:55.743410Z",
     "start_time": "2023-06-27T15:53:55.737555Z"
    }
   },
   "outputs": [],
   "source": [
    "X_train_multiclass, X_test_multiclass, y_train_multiclass, y_test_multiclass = train_test_split(multiclass_X, multiclass_y, test_size=0.33, random_state=322)"
   ]
  },
  {
   "cell_type": "markdown",
   "id": "b9ad2471",
   "metadata": {},
   "source": [
    "#### MultinomialNB (вместо бейзлайна)"
   ]
  },
  {
   "cell_type": "code",
   "execution_count": 50,
   "id": "d5c3e0ff",
   "metadata": {
    "ExecuteTime": {
     "end_time": "2023-06-27T15:53:55.749778Z",
     "start_time": "2023-06-27T15:53:55.746407Z"
    }
   },
   "outputs": [],
   "source": [
    "model_multibayes = Pipeline([\n",
    "    ('minmax', MinMaxScaler()),\n",
    "    ('naive_bayes', MultinomialNB(alpha=1.0, class_prior=None, fit_prior=True))\n",
    "], verbose=True)"
   ]
  },
  {
   "cell_type": "code",
   "execution_count": 51,
   "id": "c333a794",
   "metadata": {
    "ExecuteTime": {
     "end_time": "2023-06-27T15:53:55.779076Z",
     "start_time": "2023-06-27T15:53:55.752264Z"
    }
   },
   "outputs": [
    {
     "name": "stdout",
     "output_type": "stream",
     "text": [
      "[Pipeline] ............ (step 1 of 2) Processing minmax, total=   0.0s\n",
      "[Pipeline] ....... (step 2 of 2) Processing naive_bayes, total=   0.0s\n"
     ]
    }
   ],
   "source": [
    "model_multibayes.fit(X_train_multiclass, y_train_multiclass)\n",
    "y_pred_multibayes = model_multibayes.predict(X_test_multiclass)"
   ]
  },
  {
   "cell_type": "code",
   "execution_count": 52,
   "id": "864171bc",
   "metadata": {
    "ExecuteTime": {
     "end_time": "2023-06-27T15:53:55.838869Z",
     "start_time": "2023-06-27T15:53:55.781048Z"
    },
    "scrolled": true
   },
   "outputs": [
    {
     "name": "stdout",
     "output_type": "stream",
     "text": [
      "Accuracy: 0.1641\n",
      "              precision    recall  f1-score   support\n",
      "\n",
      "         ANG       0.16      0.94      0.28       398\n",
      "         DIS       0.00      0.00      0.00       428\n",
      "         FEA       0.00      0.00      0.00       445\n",
      "         HAP       0.00      0.00      0.00       426\n",
      "         NEU       0.00      0.00      0.00       355\n",
      "         SAD       0.21      0.07      0.11       404\n",
      "\n",
      "    accuracy                           0.16      2456\n",
      "   macro avg       0.06      0.17      0.06      2456\n",
      "weighted avg       0.06      0.16      0.06      2456\n",
      "\n"
     ]
    },
    {
     "name": "stderr",
     "output_type": "stream",
     "text": [
      "/Library/Frameworks/Python.framework/Versions/3.8/lib/python3.8/site-packages/sklearn/metrics/_classification.py:1334: UndefinedMetricWarning: Precision and F-score are ill-defined and being set to 0.0 in labels with no predicted samples. Use `zero_division` parameter to control this behavior.\n",
      "  _warn_prf(average, modifier, msg_start, len(result))\n",
      "/Library/Frameworks/Python.framework/Versions/3.8/lib/python3.8/site-packages/sklearn/metrics/_classification.py:1334: UndefinedMetricWarning: Precision and F-score are ill-defined and being set to 0.0 in labels with no predicted samples. Use `zero_division` parameter to control this behavior.\n",
      "  _warn_prf(average, modifier, msg_start, len(result))\n",
      "/Library/Frameworks/Python.framework/Versions/3.8/lib/python3.8/site-packages/sklearn/metrics/_classification.py:1334: UndefinedMetricWarning: Precision and F-score are ill-defined and being set to 0.0 in labels with no predicted samples. Use `zero_division` parameter to control this behavior.\n",
      "  _warn_prf(average, modifier, msg_start, len(result))\n"
     ]
    }
   ],
   "source": [
    "print(f'Accuracy: {accuracy_score(y_test_multiclass, y_pred_multibayes):.4}')\n",
    "print(classification_report(y_test_multiclass, y_pred_multibayes))"
   ]
  },
  {
   "cell_type": "markdown",
   "id": "5909a6a2",
   "metadata": {
    "ExecuteTime": {
     "end_time": "2023-06-27T11:51:26.803135Z",
     "start_time": "2023-06-27T11:51:26.800007Z"
    }
   },
   "source": [
    "#### Дерево решений"
   ]
  },
  {
   "cell_type": "code",
   "execution_count": 55,
   "id": "f9839036",
   "metadata": {
    "ExecuteTime": {
     "end_time": "2023-06-27T15:55:44.064011Z",
     "start_time": "2023-06-27T15:55:44.015015Z"
    }
   },
   "outputs": [],
   "source": [
    "decition_tree = DecisionTreeClassifier()\n",
    "decition_tree.fit(X_train_multiclass, y_train_multiclass)\n",
    "y_pred_decision_tree = decition_tree.predict(X_test_multiclass)"
   ]
  },
  {
   "cell_type": "code",
   "execution_count": 56,
   "id": "1866d7bf",
   "metadata": {
    "ExecuteTime": {
     "end_time": "2023-06-27T15:55:44.835403Z",
     "start_time": "2023-06-27T15:55:44.751151Z"
    }
   },
   "outputs": [
    {
     "name": "stdout",
     "output_type": "stream",
     "text": [
      "Accuracy: 0.2333\n",
      "              precision    recall  f1-score   support\n",
      "\n",
      "         ANG       0.32      0.35      0.33       398\n",
      "         DIS       0.17      0.17      0.17       428\n",
      "         FEA       0.17      0.15      0.16       445\n",
      "         HAP       0.23      0.23      0.23       426\n",
      "         NEU       0.20      0.20      0.20       355\n",
      "         SAD       0.29      0.29      0.29       404\n",
      "\n",
      "    accuracy                           0.23      2456\n",
      "   macro avg       0.23      0.23      0.23      2456\n",
      "weighted avg       0.23      0.23      0.23      2456\n",
      "\n"
     ]
    }
   ],
   "source": [
    "print(f'Accuracy: {accuracy_score(y_test_multiclass, y_pred_decition_tree):.4}')\n",
    "\n",
    "print(classification_report(y_test_multiclass, y_pred_decision_tree))"
   ]
  },
  {
   "cell_type": "code",
   "execution_count": 57,
   "id": "7819d552",
   "metadata": {
    "ExecuteTime": {
     "end_time": "2023-06-27T15:55:46.343865Z",
     "start_time": "2023-06-27T15:55:46.340330Z"
    }
   },
   "outputs": [],
   "source": [
    "# улучшие decition tree"
   ]
  },
  {
   "cell_type": "markdown",
   "id": "05036305",
   "metadata": {},
   "source": [
    "#### K-Neighbors"
   ]
  },
  {
   "cell_type": "code",
   "execution_count": 58,
   "id": "409fd189",
   "metadata": {
    "ExecuteTime": {
     "end_time": "2023-06-27T15:55:47.569199Z",
     "start_time": "2023-06-27T15:55:47.563824Z"
    }
   },
   "outputs": [],
   "source": [
    "from sklearn.neighbors import KNeighborsClassifier"
   ]
  },
  {
   "cell_type": "code",
   "execution_count": 59,
   "id": "59737862",
   "metadata": {
    "ExecuteTime": {
     "end_time": "2023-06-27T15:55:48.259146Z",
     "start_time": "2023-06-27T15:55:48.144126Z"
    }
   },
   "outputs": [],
   "source": [
    "neigh = KNeighborsClassifier()\n",
    "neigh.fit(X_train_multiclass, y_train_multiclass)\n",
    "\n",
    "y_pred_neigh = neigh.predict(X_test_multiclass)"
   ]
  },
  {
   "cell_type": "code",
   "execution_count": 60,
   "id": "1e5e0ace",
   "metadata": {
    "ExecuteTime": {
     "end_time": "2023-06-27T15:55:48.776323Z",
     "start_time": "2023-06-27T15:55:48.679067Z"
    }
   },
   "outputs": [
    {
     "name": "stdout",
     "output_type": "stream",
     "text": [
      "Accuracy: 0.2801\n",
      "              precision    recall  f1-score   support\n",
      "\n",
      "         ANG       0.35      0.55      0.43       398\n",
      "         DIS       0.21      0.22      0.22       428\n",
      "         FEA       0.20      0.15      0.17       445\n",
      "         HAP       0.26      0.21      0.23       426\n",
      "         NEU       0.27      0.27      0.27       355\n",
      "         SAD       0.34      0.30      0.32       404\n",
      "\n",
      "    accuracy                           0.28      2456\n",
      "   macro avg       0.27      0.28      0.27      2456\n",
      "weighted avg       0.27      0.28      0.27      2456\n",
      "\n"
     ]
    }
   ],
   "source": [
    "print(f'Accuracy: {accuracy_score(y_test_multiclass, y_pred_neigh):.4}')\n",
    "\n",
    "print(classification_report(y_test_multiclass, y_pred_neigh))"
   ]
  },
  {
   "cell_type": "code",
   "execution_count": 61,
   "id": "8bc9c6de",
   "metadata": {
    "ExecuteTime": {
     "end_time": "2023-06-27T15:55:50.410560Z",
     "start_time": "2023-06-27T15:55:49.037110Z"
    }
   },
   "outputs": [
    {
     "name": "stdout",
     "output_type": "stream",
     "text": [
      "Accuracy: 0.2801, step/iter : 5\n",
      "Accuracy: 0.2944, step/iter : 10\n",
      "Accuracy: 0.305, step/iter : 15\n",
      "Accuracy: 0.3119, step/iter : 20\n",
      "Accuracy: 0.3184, step/iter : 25\n",
      "Accuracy: 0.3241, step/iter : 30\n",
      "Accuracy: 0.3233, step/iter : 35\n",
      "Accuracy: 0.3294, step/iter : 40\n",
      "Accuracy: 0.327, step/iter : 45\n",
      "Accuracy: 0.3286, step/iter : 50\n",
      "Accuracy: 0.3249, step/iter : 55\n",
      "Accuracy: 0.3229, step/iter : 60\n"
     ]
    }
   ],
   "source": [
    "# поподбираем n_neighbors\n",
    "for i in range(5, 65, 5):\n",
    "    neigh = KNeighborsClassifier(n_neighbors = i)\n",
    "    neigh_model = neigh.fit(X_train_multiclass, y_train_multiclass)\n",
    "    y_pred_neigh = neigh_model.predict(X_test_multiclass)\n",
    "    accuracy = accuracy_score(y_test_multiclass, y_pred_neigh)\n",
    "    print(f'Accuracy: {accuracy:.4}, step/iter : {i}')"
   ]
  },
  {
   "cell_type": "code",
   "execution_count": 62,
   "id": "c985bfd9",
   "metadata": {
    "ExecuteTime": {
     "end_time": "2023-06-27T15:55:53.403282Z",
     "start_time": "2023-06-27T15:55:52.122398Z"
    }
   },
   "outputs": [
    {
     "name": "stdout",
     "output_type": "stream",
     "text": [
      "Accuracy: 0.327, step/iter : 45\n",
      "Accuracy: 0.3249, step/iter : 46\n",
      "Accuracy: 0.3257, step/iter : 47\n",
      "Accuracy: 0.3274, step/iter : 48\n",
      "Accuracy: 0.3265, step/iter : 49\n",
      "Accuracy: 0.3286, step/iter : 50\n",
      "Accuracy: 0.3278, step/iter : 51\n",
      "Accuracy: 0.3265, step/iter : 52\n",
      "Accuracy: 0.3282, step/iter : 53\n",
      "Accuracy: 0.3253, step/iter : 54\n"
     ]
    }
   ],
   "source": [
    "for i in range(45, 55):\n",
    "    neigh = KNeighborsClassifier(n_neighbors = i)\n",
    "    neigh_model = neigh.fit(X_train_multiclass, y_train_multiclass)\n",
    "    y_pred_neigh = neigh_model.predict(X_test_multiclass)\n",
    "    accuracy = accuracy_score(y_test_multiclass, y_pred_neigh)\n",
    "    print(f'Accuracy: {accuracy:.4}, step/iter : {i}')"
   ]
  },
  {
   "cell_type": "code",
   "execution_count": 63,
   "id": "06b0661f",
   "metadata": {
    "ExecuteTime": {
     "end_time": "2023-06-27T15:55:53.547974Z",
     "start_time": "2023-06-27T15:55:53.406369Z"
    }
   },
   "outputs": [],
   "source": [
    "neigh = KNeighborsClassifier(n_neighbors = 50)\n",
    "neigh.fit(X_train_multiclass, y_train_multiclass)\n",
    "\n",
    "y_pred_neigh = neigh.predict(X_test_multiclass)"
   ]
  },
  {
   "cell_type": "code",
   "execution_count": 64,
   "id": "e723f83b",
   "metadata": {
    "ExecuteTime": {
     "end_time": "2023-06-27T15:55:54.001601Z",
     "start_time": "2023-06-27T15:55:53.923732Z"
    }
   },
   "outputs": [
    {
     "name": "stdout",
     "output_type": "stream",
     "text": [
      "Accuracy: 0.3286\n",
      "              precision    recall  f1-score   support\n",
      "\n",
      "         ANG       0.36      0.71      0.48       398\n",
      "         DIS       0.20      0.07      0.11       428\n",
      "         FEA       0.27      0.03      0.06       445\n",
      "         HAP       0.31      0.29      0.30       426\n",
      "         NEU       0.27      0.41      0.33       355\n",
      "         SAD       0.39      0.52      0.44       404\n",
      "\n",
      "    accuracy                           0.33      2456\n",
      "   macro avg       0.30      0.34      0.29      2456\n",
      "weighted avg       0.30      0.33      0.28      2456\n",
      "\n"
     ]
    }
   ],
   "source": [
    "print(f'Accuracy: {accuracy_score(y_test_multiclass, y_pred_neigh):.4}')\n",
    "\n",
    "print(classification_report(y_test_multiclass, y_pred_neigh))"
   ]
  },
  {
   "cell_type": "markdown",
   "id": "19f06980",
   "metadata": {
    "ExecuteTime": {
     "end_time": "2023-06-27T12:59:41.924578Z",
     "start_time": "2023-06-27T12:59:41.921290Z"
    }
   },
   "source": [
    "## К-means (кластеризация)"
   ]
  },
  {
   "cell_type": "code",
   "execution_count": 65,
   "id": "f3456dce",
   "metadata": {
    "ExecuteTime": {
     "end_time": "2023-06-27T15:56:03.676726Z",
     "start_time": "2023-06-27T15:56:03.158636Z"
    }
   },
   "outputs": [],
   "source": [
    "from sklearn.cluster import KMeans"
   ]
  },
  {
   "cell_type": "code",
   "execution_count": 66,
   "id": "8a11ff8c",
   "metadata": {
    "ExecuteTime": {
     "end_time": "2023-06-27T15:56:05.909655Z",
     "start_time": "2023-06-27T15:56:03.680531Z"
    },
    "scrolled": true
   },
   "outputs": [
    {
     "name": "stderr",
     "output_type": "stream",
     "text": [
      "100%|█████████████████████████████████████████████| 5/5 [00:02<00:00,  2.25it/s]\n"
     ]
    }
   ],
   "source": [
    "inertia = []\n",
    "silhouette = {}\n",
    "\n",
    "for i in tqdm(range(2,7)): \n",
    "    \n",
    "    kmeans = KMeans(\n",
    "               n_clusters=i, \n",
    "               init='k-means++', \n",
    "               n_init=15,\n",
    "               max_iter=500, \n",
    "               random_state=322 \n",
    "    ) \n",
    "    \n",
    "    \n",
    "    kmeans.fit(X_train_multiclass)\n",
    "    \n",
    "    inertia.append(kmeans.inertia_)\n",
    "    silhouette[i] = silhouette_score(X_train_multiclass, kmeans.labels_, metric='euclidean')"
   ]
  },
  {
   "cell_type": "code",
   "execution_count": 67,
   "id": "51e0edfc",
   "metadata": {
    "ExecuteTime": {
     "end_time": "2023-06-27T15:56:07.118407Z",
     "start_time": "2023-06-27T15:56:05.912043Z"
    }
   },
   "outputs": [
    {
     "data": {
      "image/png": "[encoded data removed]",
      "text/plain": [
       "<Figure size 640x480 with 2 Axes>"
      ]
     },
     "metadata": {},
     "output_type": "display_data"
    },
    {
     "ename": "AttributeError",
     "evalue": "module 'matplotlib' has no attribute 'pyplot'",
     "output_type": "error",
     "traceback": [
      "\u001b[0;31m---------------------------------------------------------------------------\u001b[0m",
      "\u001b[0;31mAttributeError\u001b[0m                            Traceback (most recent call last)",
      "Input \u001b[0;32mIn [67]\u001b[0m, in \u001b[0;36m<cell line: 18>\u001b[0;34m()\u001b[0m\n\u001b[1;32m     14\u001b[0m plt\u001b[38;5;241m.\u001b[39mtitle(\u001b[38;5;124m'\u001b[39m\u001b[38;5;124mSilhouette Score\u001b[39m\u001b[38;5;124m'\u001b[39m)\n\u001b[1;32m     15\u001b[0m plt\u001b[38;5;241m.\u001b[39mxlabel(\u001b[38;5;124m'\u001b[39m\u001b[38;5;124mЧисло кластеров\u001b[39m\u001b[38;5;124m'\u001b[39m)\n\u001b[0;32m---> 18\u001b[0m \u001b[43mplt\u001b[49m\u001b[38;5;241;43m.\u001b[39;49m\u001b[43mshow\u001b[49m\u001b[43m(\u001b[49m\u001b[43m)\u001b[49m\n",
      "File \u001b[0;32m/Library/Frameworks/Python.framework/Versions/3.8/lib/python3.8/site-packages/matplotlib/pyplot.py:421\u001b[0m, in \u001b[0;36mshow\u001b[0;34m(*args, **kwargs)\u001b[0m\n\u001b[1;32m    377\u001b[0m \u001b[38;5;124;03m\"\"\"\u001b[39;00m\n\u001b[1;32m    378\u001b[0m \u001b[38;5;124;03mDisplay all open figures.\u001b[39;00m\n\u001b[1;32m    379\u001b[0m \n\u001b[0;32m   (...)\u001b[0m\n\u001b[1;32m    418\u001b[0m \u001b[38;5;124;03mexplicitly there.\u001b[39;00m\n\u001b[1;32m    419\u001b[0m \u001b[38;5;124;03m\"\"\"\u001b[39;00m\n\u001b[1;32m    420\u001b[0m _warn_if_gui_out_of_main_thread()\n\u001b[0;32m--> 421\u001b[0m \u001b[38;5;28;01mreturn\u001b[39;00m \u001b[43m_get_backend_mod\u001b[49m\u001b[43m(\u001b[49m\u001b[43m)\u001b[49m\u001b[38;5;241;43m.\u001b[39;49m\u001b[43mshow\u001b[49m\u001b[43m(\u001b[49m\u001b[38;5;241;43m*\u001b[39;49m\u001b[43margs\u001b[49m\u001b[43m,\u001b[49m\u001b[43m \u001b[49m\u001b[38;5;241;43m*\u001b[39;49m\u001b[38;5;241;43m*\u001b[39;49m\u001b[43mkwargs\u001b[49m\u001b[43m)\u001b[49m\n",
      "File \u001b[0;32m/Library/Frameworks/Python.framework/Versions/3.8/lib/python3.8/site-packages/matplotlib_inline/backend_inline.py:99\u001b[0m, in \u001b[0;36mshow\u001b[0;34m(close, block)\u001b[0m\n\u001b[1;32m     96\u001b[0m \u001b[38;5;66;03m# only call close('all') if any to close\u001b[39;00m\n\u001b[1;32m     97\u001b[0m \u001b[38;5;66;03m# close triggers gc.collect, which can be slow\u001b[39;00m\n\u001b[1;32m     98\u001b[0m \u001b[38;5;28;01mif\u001b[39;00m close \u001b[38;5;129;01mand\u001b[39;00m Gcf\u001b[38;5;241m.\u001b[39mget_all_fig_managers():\n\u001b[0;32m---> 99\u001b[0m     \u001b[43mmatplotlib\u001b[49m\u001b[38;5;241;43m.\u001b[39;49m\u001b[43mpyplot\u001b[49m\u001b[38;5;241m.\u001b[39mclose(\u001b[38;5;124m'\u001b[39m\u001b[38;5;124mall\u001b[39m\u001b[38;5;124m'\u001b[39m)\n",
      "File \u001b[0;32m/Library/Frameworks/Python.framework/Versions/3.8/lib/python3.8/site-packages/matplotlib/_api/__init__.py:224\u001b[0m, in \u001b[0;36mcaching_module_getattr.<locals>.__getattr__\u001b[0;34m(name)\u001b[0m\n\u001b[1;32m    222\u001b[0m \u001b[38;5;28;01mif\u001b[39;00m name \u001b[38;5;129;01min\u001b[39;00m props:\n\u001b[1;32m    223\u001b[0m     \u001b[38;5;28;01mreturn\u001b[39;00m props[name]\u001b[38;5;241m.\u001b[39m\u001b[38;5;21m__get__\u001b[39m(instance)\n\u001b[0;32m--> 224\u001b[0m \u001b[38;5;28;01mraise\u001b[39;00m \u001b[38;5;167;01mAttributeError\u001b[39;00m(\n\u001b[1;32m    225\u001b[0m     \u001b[38;5;124mf\u001b[39m\u001b[38;5;124m\"\u001b[39m\u001b[38;5;124mmodule \u001b[39m\u001b[38;5;132;01m{\u001b[39;00m\u001b[38;5;28mcls\u001b[39m\u001b[38;5;241m.\u001b[39m\u001b[38;5;18m__module__\u001b[39m\u001b[38;5;132;01m!r}\u001b[39;00m\u001b[38;5;124m has no attribute \u001b[39m\u001b[38;5;132;01m{\u001b[39;00mname\u001b[38;5;132;01m!r}\u001b[39;00m\u001b[38;5;124m\"\u001b[39m)\n",
      "\u001b[0;31mAttributeError\u001b[0m: module 'matplotlib' has no attribute 'pyplot'"
     ]
    },
    {
     "data": {
      "image/png": "[encoded data removed]",
      "text/plain": [
       "<Figure size 640x480 with 2 Axes>"
      ]
     },
     "metadata": {},
     "output_type": "display_data"
    },
    {
     "ename": "AttributeError",
     "evalue": "module 'matplotlib' has no attribute 'pyplot'",
     "output_type": "error",
     "traceback": [
      "\u001b[0;31m---------------------------------------------------------------------------\u001b[0m",
      "\u001b[0;31mAttributeError\u001b[0m                            Traceback (most recent call last)",
      "File \u001b[0;32m/Library/Frameworks/Python.framework/Versions/3.8/lib/python3.8/site-packages/matplotlib_inline/backend_inline.py:99\u001b[0m, in \u001b[0;36mshow\u001b[0;34m(close, block)\u001b[0m\n\u001b[1;32m     96\u001b[0m \u001b[38;5;66;03m# only call close('all') if any to close\u001b[39;00m\n\u001b[1;32m     97\u001b[0m \u001b[38;5;66;03m# close triggers gc.collect, which can be slow\u001b[39;00m\n\u001b[1;32m     98\u001b[0m \u001b[38;5;28;01mif\u001b[39;00m close \u001b[38;5;129;01mand\u001b[39;00m Gcf\u001b[38;5;241m.\u001b[39mget_all_fig_managers():\n\u001b[0;32m---> 99\u001b[0m     \u001b[43mmatplotlib\u001b[49m\u001b[38;5;241;43m.\u001b[39;49m\u001b[43mpyplot\u001b[49m\u001b[38;5;241m.\u001b[39mclose(\u001b[38;5;124m'\u001b[39m\u001b[38;5;124mall\u001b[39m\u001b[38;5;124m'\u001b[39m)\n",
      "File \u001b[0;32m/Library/Frameworks/Python.framework/Versions/3.8/lib/python3.8/site-packages/matplotlib/_api/__init__.py:224\u001b[0m, in \u001b[0;36mcaching_module_getattr.<locals>.__getattr__\u001b[0;34m(name)\u001b[0m\n\u001b[1;32m    222\u001b[0m \u001b[38;5;28;01mif\u001b[39;00m name \u001b[38;5;129;01min\u001b[39;00m props:\n\u001b[1;32m    223\u001b[0m     \u001b[38;5;28;01mreturn\u001b[39;00m props[name]\u001b[38;5;241m.\u001b[39m\u001b[38;5;21m__get__\u001b[39m(instance)\n\u001b[0;32m--> 224\u001b[0m \u001b[38;5;28;01mraise\u001b[39;00m \u001b[38;5;167;01mAttributeError\u001b[39;00m(\n\u001b[1;32m    225\u001b[0m     \u001b[38;5;124mf\u001b[39m\u001b[38;5;124m\"\u001b[39m\u001b[38;5;124mmodule \u001b[39m\u001b[38;5;132;01m{\u001b[39;00m\u001b[38;5;28mcls\u001b[39m\u001b[38;5;241m.\u001b[39m\u001b[38;5;18m__module__\u001b[39m\u001b[38;5;132;01m!r}\u001b[39;00m\u001b[38;5;124m has no attribute \u001b[39m\u001b[38;5;132;01m{\u001b[39;00mname\u001b[38;5;132;01m!r}\u001b[39;00m\u001b[38;5;124m\"\u001b[39m)\n",
      "\u001b[0;31mAttributeError\u001b[0m: module 'matplotlib' has no attribute 'pyplot'"
     ]
    }
   ],
   "source": [
    "plt.subplot(1, 2, 1)\n",
    "\n",
    "plt.plot(range(2,len(inertia)+2), inertia) \n",
    "\n",
    "plt.xlabel('Число кластеров')\n",
    "plt.title('K-means Inertia')\n",
    "plt.grid(True)\n",
    "\n",
    "plt.subplot(1, 2, 2)\n",
    "\n",
    "plt.bar(range(len(silhouette)), list(silhouette.values()), align='center')\n",
    "plt.xticks(range(len(silhouette)), list(silhouette.keys()))\n",
    "plt.grid(True)\n",
    "plt.title('Silhouette Score')\n",
    "plt.xlabel('Число кластеров')\n",
    "\n",
    "\n",
    "plt.show()"
   ]
  },
  {
   "cell_type": "code",
   "execution_count": 68,
   "id": "ad6b1f3a",
   "metadata": {
    "ExecuteTime": {
     "end_time": "2023-06-27T15:56:28.194366Z",
     "start_time": "2023-06-27T15:56:27.738551Z"
    }
   },
   "outputs": [
    {
     "name": "stdout",
     "output_type": "stream",
     "text": [
      "Inertia: 0.0003709\n",
      "Silhouette Score: 0.5154\n"
     ]
    }
   ],
   "source": [
    "print(f'Inertia: {kmeans.inertia_:.4}')\n",
    "print(f'Silhouette Score: {silhouette_score(X_train_multiclass, kmeans.labels_):.4}')"
   ]
  },
  {
   "cell_type": "code",
   "execution_count": null,
   "id": "9227b8c0",
   "metadata": {},
   "outputs": [],
   "source": []
  }
 ],
 "metadata": {
  "kernelspec": {
   "display_name": "Python 3 (ipykernel)",
   "language": "python",
   "name": "python3"
  },
  "language_info": {
   "codemirror_mode": {
    "name": "ipython",
    "version": 3
   },
   "file_extension": ".py",
   "mimetype": "text/x-python",
   "name": "python",
   "nbconvert_exporter": "python",
   "pygments_lexer": "ipython3",
   "version": "3.8.6"
  },
  "toc": {
   "base_numbering": 1,
   "nav_menu": {},
   "number_sections": true,
   "sideBar": true,
   "skip_h1_title": false,
   "title_cell": "Table of Contents",
   "title_sidebar": "Contents",
   "toc_cell": false,
   "toc_position": {},
   "toc_section_display": true,
   "toc_window_display": false
  }
 },
 "nbformat": 4,
 "nbformat_minor": 5
}
